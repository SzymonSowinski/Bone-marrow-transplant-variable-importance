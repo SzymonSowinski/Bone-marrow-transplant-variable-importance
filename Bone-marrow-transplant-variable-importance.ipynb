{
 "cells": [
  {
   "cell_type": "code",
   "execution_count": 1,
   "metadata": {},
   "outputs": [],
   "source": [
    "import warnings\n",
    "warnings.filterwarnings('ignore')"
   ]
  },
  {
   "cell_type": "markdown",
   "metadata": {},
   "source": [
    "# Bone marrow transplant\n",
    "\n",
    "Pediatric patients with hematologic diseases after stem cell transplantation"
   ]
  },
  {
   "cell_type": "markdown",
   "metadata": {},
   "source": [
    "## Table of content\n",
    "\n",
    "1. Abstract \n",
    "\n",
    "2. Dataset\n",
    "\n",
    "3. Data preprocessing\n",
    "\n",
    "4. Correlation\n",
    "\n",
    "5. Information Value \n",
    "\n",
    "6. Benchmark Model training\n",
    "\n",
    "7. Random Forest Importance\n",
    "\n",
    "8. Borut Algorithm \n",
    "\n",
    "9. Comparision Approach\n",
    "\n",
    "10. Summary\n"
   ]
  },
  {
   "cell_type": "markdown",
   "metadata": {},
   "source": [
    "## 1. Abstract\n",
    "\n",
    "The aim of this project is to determine the influence of individual features on the patient's chance of survival after transplantation, using several methods and to compare their efficiency.\n",
    "\n",
    "At the beginning, the non-machine learning method of calculating Information Value was used to determine the one-dimensional significance of the variables.\n",
    "\n",
    "The second method used is the importance of variables provided by the random forest algorithm.\n",
    "\n",
    "As the last method, the Boruta variable selection algorithm was used, which also ensures the ordering of variables in terms of their importance.\n",
    "\n",
    "To measure and compare the performance of individual methods, the accuracy measures of classification models based on a full set of features (as a benchmark) and a subset of features selected by individual methods were used."
   ]
  },
  {
   "cell_type": "markdown",
   "metadata": {},
   "source": [
    "## 2. Dataset"
   ]
  },
  {
   "cell_type": "markdown",
   "metadata": {},
   "source": [
    "The data set describes pediatric patients with several hematologic diseases. All patients were subject to the stem cell transplantation.\n",
    "\n",
    "Content\n",
    "The set contains 187 patients characterized by 37 features. \n",
    "\n",
    "__donor_age__ - Age of the donor\n",
    "\n",
    "__donoragebelow_35__ - Is donor age less than 35 _(yes, no)_\n",
    "\n",
    "__donor_ABO__ - ABO blood group of the donor _(0, A, B, AB)_\n",
    "\n",
    "__donor_CMV__ - Presence of cytomegalovirus infection _(present, absent)_\n",
    "\n",
    "__recipient_age__ - Age of the recipient\n",
    "\n",
    "__recipientagebelow_10__ - Is recipient age below 10 _(yes, no)_\n",
    "\n",
    "__recipientageint__ - Age of the recipient discretized to intervals _((0,5], (5, 10], (10, 20])_\n",
    "\n",
    "__recipient_gender__ - Gender of the recipient _(female, male)_\n",
    "\n",
    "__recipientbodymass__ - Body mass of the recipient\n",
    "\n",
    "__recipient_ABO__ - ABO blood group of the recipient _(0, A, B ,AB)_\n",
    "\n",
    "__recipient_rh__ - Presence of the Rh factor on recipient’s _(plus ,minus)_\n",
    "\n",
    "__recipient_CMV__ - Presence of cytomegalovirus infection _(present, absent)\n",
    "\n",
    "__disease__ - Type of disease _(ALL, AML, chronic, nonmalignant, lymphoma)_\n",
    "\n",
    "__disease_group__ - Type of disease _(malignant, nonmalignant)_\n",
    "\n",
    "__gender_match__ - Compatibility of the donor and recipient according gender _(female to male, other)_\n",
    "\n",
    "__ABO_match__ - Compatibility of the donor and the recipient according to ABO blood group _(matched, \n",
    "mismatched)_\n",
    "\n",
    "__CMV_status__ - Serological compatibility according to \n",
    "cytomegalovirus infection (the higher the value the lower the compatibility)\n",
    "\n",
    "__HLA_match__ - Compatibility of antigens of the main histocompatibility complex of the donor and the recipient of hematopoietic stem cells _(10/10, 9/10, 8/10, 7/10)_\n",
    "\n",
    "__HLA_mismatch__ - HLA matched or mismatched\n",
    "\n",
    "__antigen__ - In how many antigens there is a difference between the donor nad the recipient _(0-3)_\n",
    "\n",
    "__allel__ - In how many allele there is a difference between the donor nad the recipient _(0-4)_\n",
    "\n",
    "__HLAgroup1__ - The difference type between the donor and the recipient _(HLA matched, one antigen, \n",
    "one allel, DRB1 cell, two allele or allel+antigen, two antigenes+allel, mismatched)_\n",
    "\n",
    "__risk_group__ - Risk group _(high, low)_\n",
    "\n",
    "__stemcellsource__ - Source of hematopoietic stem cells _(peripheral blood, bone marrow)_\n",
    "\n",
    "__txpostrelapse__ - The second bone marrow transplantation after relapse _(yes ,no)_\n",
    "\n",
    "__CD34x1e6per_kg__ - CD34kgx10d6 - CD34+ cell dose per kg of recipient body weight _(10^6/kg)_\n",
    "\n",
    "__CD3x1e8per_kg__ - CD3+ cell dose per kg of recipient body weight _(10^8/kg)_\n",
    "\n",
    "__CD3toCD34_ratio__ - CD3+ cell to CD34+ cell ratio\n",
    "\n",
    "__ANC_recovery__ - Time to neutrophils recovery defined as neutrophils count >0.5 x 10^9/L\n",
    "\n",
    "__PLT_recovery__ - Time to platelet recovery defined as platelet count >50000/mm3\n",
    "\n",
    "__acuteGvHDIIIIIIV__ - Development of acute graft versus host disease stage II or III or IV _(yes, no)_\n",
    "\n",
    "__acuteGvHDIII_IV__ - Development of acute graft versus host disease stage III or IV _(yes, no)_\n",
    "\n",
    "__timetoacuteGvHDIII_IV__ - Time to development of acute graft versus host disease stage III or IV\n",
    "\n",
    "__extensivechronicGvHD__ - Development of extensive chronic graft versus host disease (yes, no)\n",
    "\n",
    "\n",
    "__relapse__ - Relapse of the disease _(yes, no)_\n",
    "\n",
    "__survival_time__ - Time of observation (if alive) or time to event (if dead) in days\n",
    "\n",
    "__survival_status__ - Survival status _(0 - alive, 1 - dead)_\n"
   ]
  },
  {
   "cell_type": "markdown",
   "metadata": {},
   "source": [
    "\n",
    "### Data Import"
   ]
  },
  {
   "cell_type": "code",
   "execution_count": 2,
   "metadata": {},
   "outputs": [],
   "source": [
    "from scipy.io import arff\n",
    "import pandas as pd\n",
    "import numpy as np\n",
    "\n",
    "data = arff.loadarff('bone-marrow.arff')"
   ]
  },
  {
   "cell_type": "code",
   "execution_count": 3,
   "metadata": {},
   "outputs": [],
   "source": [
    "df = pd.DataFrame(data[0])"
   ]
  },
  {
   "cell_type": "markdown",
   "metadata": {},
   "source": [
    "### Seting Target Variable"
   ]
  },
  {
   "cell_type": "code",
   "execution_count": 4,
   "metadata": {},
   "outputs": [],
   "source": [
    "y = df.iloc[:,-1].str.decode('utf-8')"
   ]
  },
  {
   "cell_type": "markdown",
   "metadata": {},
   "source": [
    "### Excluding Variables\n",
    "\n",
    "Since some of the variables are related to the goal variable, and there are variables with the same characteristics. We exclude these variables"
   ]
  },
  {
   "cell_type": "code",
   "execution_count": 5,
   "metadata": {},
   "outputs": [],
   "source": [
    "df = df.iloc[:,:-9]"
   ]
  },
  {
   "cell_type": "code",
   "execution_count": 6,
   "metadata": {
    "scrolled": true
   },
   "outputs": [
    {
     "data": {
      "text/plain": [
       "Index(['donor_age', 'donor_age_below_35', 'donor_ABO', 'donor_CMV',\n",
       "       'recipient_age', 'recipient_age_below_10', 'recipient_age_int',\n",
       "       'recipient_gender', 'recipient_body_mass', 'recipient_ABO',\n",
       "       'recipient_rh', 'recipient_CMV', 'disease', 'disease_group',\n",
       "       'gender_match', 'ABO_match', 'CMV_status', 'HLA_match', 'HLA_mismatch',\n",
       "       'antigen', 'allel', 'HLA_group_1', 'risk_group', 'stem_cell_source',\n",
       "       'tx_post_relapse', 'CD34_x1e6_per_kg', 'CD3_x1e8_per_kg',\n",
       "       'CD3_to_CD34_ratio'],\n",
       "      dtype='object')"
      ]
     },
     "execution_count": 6,
     "metadata": {},
     "output_type": "execute_result"
    }
   ],
   "source": [
    "df.columns"
   ]
  },
  {
   "cell_type": "code",
   "execution_count": 7,
   "metadata": {},
   "outputs": [],
   "source": [
    "df = df[['donor_age', \n",
    "    'donor_ABO', \n",
    "    'donor_CMV',\n",
    "    'recipient_age', \n",
    "    'recipient_gender', \n",
    "    'recipient_body_mass', \n",
    "    'recipient_ABO',\n",
    "    'recipient_rh', \n",
    "    'recipient_CMV', \n",
    "    'disease', \n",
    "    'gender_match', \n",
    "    'ABO_match', \n",
    "    'CMV_status', \n",
    "    'HLA_match', \n",
    "    'HLA_mismatch',\n",
    "    'antigen', \n",
    "    'allel', \n",
    "    'HLA_group_1', \n",
    "    'risk_group', \n",
    "    'stem_cell_source',\n",
    "    'tx_post_relapse', \n",
    "    'CD34_x1e6_per_kg', \n",
    "    'CD3_x1e8_per_kg',\n",
    "    'CD3_to_CD34_ratio']]"
   ]
  },
  {
   "cell_type": "code",
   "execution_count": 8,
   "metadata": {},
   "outputs": [],
   "source": [
    "str_df = df.select_dtypes([np.object])"
   ]
  },
  {
   "cell_type": "code",
   "execution_count": 9,
   "metadata": {},
   "outputs": [],
   "source": [
    "str_df = str_df.stack().str.decode('utf-8').unstack()"
   ]
  },
  {
   "cell_type": "code",
   "execution_count": 10,
   "metadata": {},
   "outputs": [],
   "source": [
    "num_df = df._get_numeric_data()"
   ]
  },
  {
   "cell_type": "code",
   "execution_count": 11,
   "metadata": {},
   "outputs": [],
   "source": [
    "data = pd.concat([str_df, num_df], axis=1)"
   ]
  },
  {
   "cell_type": "markdown",
   "metadata": {},
   "source": [
    "### Target inspection"
   ]
  },
  {
   "cell_type": "markdown",
   "metadata": {},
   "source": [
    "The size of the categories in the target variable"
   ]
  },
  {
   "cell_type": "code",
   "execution_count": 12,
   "metadata": {},
   "outputs": [
    {
     "data": {
      "text/plain": [
       "0    102\n",
       "1     85\n",
       "Name: survival_status, dtype: int64"
      ]
     },
     "execution_count": 12,
     "metadata": {},
     "output_type": "execute_result"
    }
   ],
   "source": [
    "y.value_counts()"
   ]
  },
  {
   "cell_type": "markdown",
   "metadata": {},
   "source": [
    "The counts in both categories are fairly equal, so there is no need to resampling these categories"
   ]
  },
  {
   "cell_type": "markdown",
   "metadata": {},
   "source": [
    "Benchmark for built models"
   ]
  },
  {
   "cell_type": "code",
   "execution_count": 13,
   "metadata": {},
   "outputs": [
    {
     "data": {
      "text/plain": [
       "0.5454545454545454"
      ]
     },
     "execution_count": 13,
     "metadata": {},
     "output_type": "execute_result"
    }
   ],
   "source": [
    "y.value_counts().max()/y.value_counts().sum()"
   ]
  },
  {
   "cell_type": "markdown",
   "metadata": {},
   "source": [
    "### Data inspection"
   ]
  },
  {
   "cell_type": "code",
   "execution_count": 14,
   "metadata": {
    "scrolled": true
   },
   "outputs": [
    {
     "name": "stdout",
     "output_type": "stream",
     "text": [
      "<class 'pandas.core.frame.DataFrame'>\n",
      "Int64Index: 187 entries, 0 to 186\n",
      "Data columns (total 24 columns):\n",
      " #   Column               Non-Null Count  Dtype  \n",
      "---  ------               --------------  -----  \n",
      " 0   donor_ABO            187 non-null    object \n",
      " 1   donor_CMV            187 non-null    object \n",
      " 2   recipient_gender     187 non-null    object \n",
      " 3   recipient_ABO        187 non-null    object \n",
      " 4   recipient_rh         187 non-null    object \n",
      " 5   recipient_CMV        187 non-null    object \n",
      " 6   disease              187 non-null    object \n",
      " 7   gender_match         187 non-null    object \n",
      " 8   ABO_match            187 non-null    object \n",
      " 9   CMV_status           187 non-null    object \n",
      " 10  HLA_match            187 non-null    object \n",
      " 11  HLA_mismatch         187 non-null    object \n",
      " 12  antigen              187 non-null    object \n",
      " 13  allel                187 non-null    object \n",
      " 14  HLA_group_1          187 non-null    object \n",
      " 15  risk_group           187 non-null    object \n",
      " 16  stem_cell_source     187 non-null    object \n",
      " 17  tx_post_relapse      187 non-null    object \n",
      " 18  donor_age            187 non-null    float64\n",
      " 19  recipient_age        187 non-null    float64\n",
      " 20  recipient_body_mass  185 non-null    float64\n",
      " 21  CD34_x1e6_per_kg     187 non-null    float64\n",
      " 22  CD3_x1e8_per_kg      182 non-null    float64\n",
      " 23  CD3_to_CD34_ratio    182 non-null    float64\n",
      "dtypes: float64(6), object(18)\n",
      "memory usage: 36.5+ KB\n"
     ]
    }
   ],
   "source": [
    "data.info()"
   ]
  },
  {
   "cell_type": "markdown",
   "metadata": {},
   "source": [
    "## 3. Data preprocessing"
   ]
  },
  {
   "cell_type": "markdown",
   "metadata": {},
   "source": [
    "### Categorical variables"
   ]
  },
  {
   "cell_type": "code",
   "execution_count": 15,
   "metadata": {
    "scrolled": true
   },
   "outputs": [
    {
     "name": "stdout",
     "output_type": "stream",
     "text": [
      "0     73\n",
      "A     71\n",
      "B     28\n",
      "AB    15\n",
      "Name: donor_ABO, dtype: int64\n",
      "---------------------------------\n",
      "absent     113\n",
      "present     72\n",
      "?            2\n",
      "Name: donor_CMV, dtype: int64\n",
      "---------------------------------\n",
      "male      112\n",
      "female     75\n",
      "Name: recipient_gender, dtype: int64\n",
      "---------------------------------\n",
      "A     75\n",
      "B     50\n",
      "0     48\n",
      "AB    13\n",
      "?      1\n",
      "Name: recipient_ABO, dtype: int64\n",
      "---------------------------------\n",
      "plus     158\n",
      "minus     27\n",
      "?          2\n",
      "Name: recipient_rh, dtype: int64\n",
      "---------------------------------\n",
      "present    100\n",
      "absent      73\n",
      "?           14\n",
      "Name: recipient_CMV, dtype: int64\n",
      "---------------------------------\n",
      "ALL             68\n",
      "chronic         45\n",
      "AML             33\n",
      "nonmalignant    32\n",
      "lymphoma         9\n",
      "Name: disease, dtype: int64\n",
      "---------------------------------\n",
      "other             155\n",
      "female_to_male     32\n",
      "Name: gender_match, dtype: int64\n",
      "---------------------------------\n",
      "mismatched    134\n",
      "matched        52\n",
      "?               1\n",
      "Name: ABO_match, dtype: int64\n",
      "---------------------------------\n",
      "2    57\n",
      "0    48\n",
      "3    39\n",
      "1    27\n",
      "?    16\n",
      "Name: CMV_status, dtype: int64\n",
      "---------------------------------\n",
      "10/10    94\n",
      "9/10     65\n",
      "8/10     23\n",
      "7/10      5\n",
      "Name: HLA_match, dtype: int64\n",
      "---------------------------------\n",
      "matched       159\n",
      "mismatched     28\n",
      "Name: HLA_mismatch, dtype: int64\n",
      "---------------------------------\n",
      "0    93\n",
      "2    65\n",
      "1    21\n",
      "3     7\n",
      "?     1\n",
      "Name: antigen, dtype: int64\n",
      "---------------------------------\n",
      "0    93\n",
      "1    54\n",
      "2    32\n",
      "3     6\n",
      "4     1\n",
      "?     1\n",
      "Name: allel, dtype: int64\n",
      "---------------------------------\n",
      "matched        94\n",
      "one_antigen    42\n",
      "two_diffs      19\n",
      "one_allel      14\n",
      "DRB1_cell       9\n",
      "mismatched      5\n",
      "three_diffs     4\n",
      "Name: HLA_group_1, dtype: int64\n",
      "---------------------------------\n",
      "low     118\n",
      "high     69\n",
      "Name: risk_group, dtype: int64\n",
      "---------------------------------\n",
      "peripheral_blood    145\n",
      "bone_marrow          42\n",
      "Name: stem_cell_source, dtype: int64\n",
      "---------------------------------\n",
      "no     164\n",
      "yes     23\n",
      "Name: tx_post_relapse, dtype: int64\n",
      "---------------------------------\n"
     ]
    }
   ],
   "source": [
    "for col_name in data.select_dtypes([np.object]).columns:\n",
    "    print( data[col_name].value_counts())\n",
    "    print(\"---------------------------------\")"
   ]
  },
  {
   "cell_type": "markdown",
   "metadata": {},
   "source": [
    "There are several missing values, which are later replaced with the most common value.\n",
    "\n",
    "Additionally, several variables show an ordering between categories that have been replaced with corresponding ordered numeric variables."
   ]
  },
  {
   "cell_type": "code",
   "execution_count": 16,
   "metadata": {},
   "outputs": [],
   "source": [
    "allel = []\n",
    "\n",
    "dictionary = {\"0\":0,\n",
    "     \"1\":1,\n",
    "     \"2\":2,\n",
    "     \"3\":3,\n",
    "     \"4\":4,\n",
    "     \"?\":0}\n",
    "\n",
    "for i in data['allel']:\n",
    "    allel.append(dictionary[i])\n",
    "\n",
    "data['allel'] = allel"
   ]
  },
  {
   "cell_type": "code",
   "execution_count": 17,
   "metadata": {},
   "outputs": [],
   "source": [
    "antigen = []\n",
    "\n",
    "dictionary = {\"0\":0,\n",
    "     \"1\":1,\n",
    "     \"2\":2,\n",
    "     \"3\":3,\n",
    "     \"?\":0}\n",
    "\n",
    "for i in data['antigen']:\n",
    "    antigen.append(dictionary[i])\n",
    "\n",
    "data['antigen'] = antigen"
   ]
  },
  {
   "cell_type": "code",
   "execution_count": 18,
   "metadata": {},
   "outputs": [],
   "source": [
    "HLA_match = []\n",
    "\n",
    "dictionary = {\"10/10\":10,\n",
    "     \"9/10\":9,\n",
    "     \"8/10\":8,\n",
    "     \"7/10\":7}\n",
    "\n",
    "for i in data['HLA_match']:\n",
    "    HLA_match.append(dictionary[i])\n",
    "\n",
    "data['HLA_match'] = HLA_match"
   ]
  },
  {
   "cell_type": "code",
   "execution_count": 19,
   "metadata": {},
   "outputs": [],
   "source": [
    "CMV_status = []\n",
    "\n",
    "dictionary = {\"0\":0,\n",
    "     \"1\":1,\n",
    "     \"2\":2,\n",
    "     \"3\":3,\n",
    "     \"?\" : 2}\n",
    "\n",
    "for i in data['CMV_status']:\n",
    "    CMV_status.append(dictionary[i])\n",
    "\n",
    "data['CMV_status'] = CMV_status"
   ]
  },
  {
   "cell_type": "code",
   "execution_count": 20,
   "metadata": {},
   "outputs": [],
   "source": [
    "data['donor_CMV'][data['donor_CMV']==\"?\"] = \"absent\""
   ]
  },
  {
   "cell_type": "code",
   "execution_count": 21,
   "metadata": {},
   "outputs": [],
   "source": [
    "data['recipient_ABO'][data['recipient_ABO']==\"?\"] = \"A\""
   ]
  },
  {
   "cell_type": "code",
   "execution_count": 22,
   "metadata": {},
   "outputs": [],
   "source": [
    "data['recipient_rh'][data['recipient_rh']==\"?\"] = \"plus\""
   ]
  },
  {
   "cell_type": "code",
   "execution_count": 23,
   "metadata": {},
   "outputs": [],
   "source": [
    "data['recipient_CMV'][data['recipient_CMV']==\"?\"] = \"present\""
   ]
  },
  {
   "cell_type": "code",
   "execution_count": 24,
   "metadata": {},
   "outputs": [],
   "source": [
    "data['ABO_match'][data['ABO_match']==\"?\"] = \"mismatched\""
   ]
  },
  {
   "cell_type": "code",
   "execution_count": 25,
   "metadata": {},
   "outputs": [],
   "source": [
    "multi_class = [\"donor_ABO\" , \"recipient_ABO\", \"disease\", \"HLA_group_1\"]"
   ]
  },
  {
   "cell_type": "code",
   "execution_count": 26,
   "metadata": {},
   "outputs": [],
   "source": [
    "double_class = [\"donor_CMV\", \"recipient_gender\", \"recipient_rh\", \"recipient_CMV\", \"gender_match\", \"ABO_match\", \"HLA_mismatch\",  \"risk_group\", \"stem_cell_source\"]"
   ]
  },
  {
   "cell_type": "markdown",
   "metadata": {},
   "source": [
    "### Dummie variables"
   ]
  },
  {
   "cell_type": "markdown",
   "metadata": {},
   "source": [
    "Since some categorical variables have only two categories, the resulting dummy variables will be a analogous. In these cases, the significance of the variable as a whole was examined.\n",
    "\n",
    "It is different in the case of variables with more categories where dummy variables were stored for each category.\n",
    "This approach examines the significance of belonging to a category more than the categorical variable as a whole."
   ]
  },
  {
   "cell_type": "code",
   "execution_count": 27,
   "metadata": {},
   "outputs": [],
   "source": [
    "multi_class = [\"donor_ABO\" , \"recipient_ABO\", \"disease\", \"HLA_group_1\"]"
   ]
  },
  {
   "cell_type": "code",
   "execution_count": 28,
   "metadata": {},
   "outputs": [],
   "source": [
    "double_class = [\"donor_CMV\", \"recipient_gender\", \"recipient_rh\", \"recipient_CMV\", \"gender_match\", \"ABO_match\", \"HLA_mismatch\",  \"risk_group\", \"stem_cell_source\"]"
   ]
  },
  {
   "cell_type": "code",
   "execution_count": 29,
   "metadata": {},
   "outputs": [],
   "source": [
    "cat_df_multi_class = pd.get_dummies(data[multi_class])"
   ]
  },
  {
   "cell_type": "code",
   "execution_count": 30,
   "metadata": {},
   "outputs": [],
   "source": [
    "cat_df_double_class = pd.get_dummies(data[double_class], drop_first =True)"
   ]
  },
  {
   "cell_type": "code",
   "execution_count": 31,
   "metadata": {},
   "outputs": [],
   "source": [
    "data = pd.concat([cat_df_double_class, cat_df_multi_class, num_df], axis=1)"
   ]
  },
  {
   "cell_type": "code",
   "execution_count": 32,
   "metadata": {
    "scrolled": true
   },
   "outputs": [
    {
     "data": {
      "text/html": [
       "<div>\n",
       "<style scoped>\n",
       "    .dataframe tbody tr th:only-of-type {\n",
       "        vertical-align: middle;\n",
       "    }\n",
       "\n",
       "    .dataframe tbody tr th {\n",
       "        vertical-align: top;\n",
       "    }\n",
       "\n",
       "    .dataframe thead th {\n",
       "        text-align: right;\n",
       "    }\n",
       "</style>\n",
       "<table border=\"1\" class=\"dataframe\">\n",
       "  <thead>\n",
       "    <tr style=\"text-align: right;\">\n",
       "      <th></th>\n",
       "      <th>donor_CMV_present</th>\n",
       "      <th>recipient_gender_male</th>\n",
       "      <th>recipient_rh_plus</th>\n",
       "      <th>recipient_CMV_present</th>\n",
       "      <th>gender_match_other</th>\n",
       "      <th>ABO_match_mismatched</th>\n",
       "      <th>HLA_mismatch_mismatched</th>\n",
       "      <th>risk_group_low</th>\n",
       "      <th>stem_cell_source_peripheral_blood</th>\n",
       "      <th>donor_ABO_0</th>\n",
       "      <th>...</th>\n",
       "      <th>HLA_group_1_one_allel</th>\n",
       "      <th>HLA_group_1_one_antigen</th>\n",
       "      <th>HLA_group_1_three_diffs</th>\n",
       "      <th>HLA_group_1_two_diffs</th>\n",
       "      <th>donor_age</th>\n",
       "      <th>recipient_age</th>\n",
       "      <th>recipient_body_mass</th>\n",
       "      <th>CD34_x1e6_per_kg</th>\n",
       "      <th>CD3_x1e8_per_kg</th>\n",
       "      <th>CD3_to_CD34_ratio</th>\n",
       "    </tr>\n",
       "  </thead>\n",
       "  <tbody>\n",
       "    <tr>\n",
       "      <th>0</th>\n",
       "      <td>1</td>\n",
       "      <td>1</td>\n",
       "      <td>1</td>\n",
       "      <td>1</td>\n",
       "      <td>1</td>\n",
       "      <td>0</td>\n",
       "      <td>0</td>\n",
       "      <td>0</td>\n",
       "      <td>1</td>\n",
       "      <td>0</td>\n",
       "      <td>...</td>\n",
       "      <td>0</td>\n",
       "      <td>0</td>\n",
       "      <td>0</td>\n",
       "      <td>0</td>\n",
       "      <td>22.830137</td>\n",
       "      <td>9.6</td>\n",
       "      <td>35.0</td>\n",
       "      <td>7.20</td>\n",
       "      <td>5.38</td>\n",
       "      <td>1.338760</td>\n",
       "    </tr>\n",
       "    <tr>\n",
       "      <th>1</th>\n",
       "      <td>0</td>\n",
       "      <td>1</td>\n",
       "      <td>1</td>\n",
       "      <td>0</td>\n",
       "      <td>1</td>\n",
       "      <td>0</td>\n",
       "      <td>0</td>\n",
       "      <td>1</td>\n",
       "      <td>0</td>\n",
       "      <td>0</td>\n",
       "      <td>...</td>\n",
       "      <td>0</td>\n",
       "      <td>0</td>\n",
       "      <td>0</td>\n",
       "      <td>0</td>\n",
       "      <td>23.342466</td>\n",
       "      <td>4.0</td>\n",
       "      <td>20.6</td>\n",
       "      <td>4.50</td>\n",
       "      <td>0.41</td>\n",
       "      <td>11.078295</td>\n",
       "    </tr>\n",
       "    <tr>\n",
       "      <th>2</th>\n",
       "      <td>0</td>\n",
       "      <td>1</td>\n",
       "      <td>1</td>\n",
       "      <td>1</td>\n",
       "      <td>1</td>\n",
       "      <td>0</td>\n",
       "      <td>0</td>\n",
       "      <td>1</td>\n",
       "      <td>0</td>\n",
       "      <td>0</td>\n",
       "      <td>...</td>\n",
       "      <td>0</td>\n",
       "      <td>0</td>\n",
       "      <td>0</td>\n",
       "      <td>0</td>\n",
       "      <td>26.394521</td>\n",
       "      <td>6.6</td>\n",
       "      <td>23.4</td>\n",
       "      <td>7.94</td>\n",
       "      <td>0.42</td>\n",
       "      <td>19.013230</td>\n",
       "    </tr>\n",
       "    <tr>\n",
       "      <th>3</th>\n",
       "      <td>1</td>\n",
       "      <td>0</td>\n",
       "      <td>1</td>\n",
       "      <td>0</td>\n",
       "      <td>1</td>\n",
       "      <td>1</td>\n",
       "      <td>0</td>\n",
       "      <td>1</td>\n",
       "      <td>0</td>\n",
       "      <td>0</td>\n",
       "      <td>...</td>\n",
       "      <td>0</td>\n",
       "      <td>0</td>\n",
       "      <td>0</td>\n",
       "      <td>0</td>\n",
       "      <td>39.684932</td>\n",
       "      <td>18.1</td>\n",
       "      <td>50.0</td>\n",
       "      <td>4.25</td>\n",
       "      <td>0.14</td>\n",
       "      <td>29.481647</td>\n",
       "    </tr>\n",
       "    <tr>\n",
       "      <th>4</th>\n",
       "      <td>0</td>\n",
       "      <td>0</td>\n",
       "      <td>0</td>\n",
       "      <td>1</td>\n",
       "      <td>1</td>\n",
       "      <td>1</td>\n",
       "      <td>0</td>\n",
       "      <td>0</td>\n",
       "      <td>1</td>\n",
       "      <td>0</td>\n",
       "      <td>...</td>\n",
       "      <td>0</td>\n",
       "      <td>1</td>\n",
       "      <td>0</td>\n",
       "      <td>0</td>\n",
       "      <td>33.358904</td>\n",
       "      <td>1.3</td>\n",
       "      <td>9.0</td>\n",
       "      <td>51.85</td>\n",
       "      <td>13.05</td>\n",
       "      <td>3.972255</td>\n",
       "    </tr>\n",
       "    <tr>\n",
       "      <th>...</th>\n",
       "      <td>...</td>\n",
       "      <td>...</td>\n",
       "      <td>...</td>\n",
       "      <td>...</td>\n",
       "      <td>...</td>\n",
       "      <td>...</td>\n",
       "      <td>...</td>\n",
       "      <td>...</td>\n",
       "      <td>...</td>\n",
       "      <td>...</td>\n",
       "      <td>...</td>\n",
       "      <td>...</td>\n",
       "      <td>...</td>\n",
       "      <td>...</td>\n",
       "      <td>...</td>\n",
       "      <td>...</td>\n",
       "      <td>...</td>\n",
       "      <td>...</td>\n",
       "      <td>...</td>\n",
       "      <td>...</td>\n",
       "      <td>...</td>\n",
       "    </tr>\n",
       "    <tr>\n",
       "      <th>182</th>\n",
       "      <td>1</td>\n",
       "      <td>1</td>\n",
       "      <td>0</td>\n",
       "      <td>1</td>\n",
       "      <td>1</td>\n",
       "      <td>0</td>\n",
       "      <td>0</td>\n",
       "      <td>0</td>\n",
       "      <td>1</td>\n",
       "      <td>0</td>\n",
       "      <td>...</td>\n",
       "      <td>0</td>\n",
       "      <td>0</td>\n",
       "      <td>0</td>\n",
       "      <td>0</td>\n",
       "      <td>37.575342</td>\n",
       "      <td>12.9</td>\n",
       "      <td>44.0</td>\n",
       "      <td>11.08</td>\n",
       "      <td>4.39</td>\n",
       "      <td>2.522750</td>\n",
       "    </tr>\n",
       "    <tr>\n",
       "      <th>183</th>\n",
       "      <td>0</td>\n",
       "      <td>0</td>\n",
       "      <td>1</td>\n",
       "      <td>1</td>\n",
       "      <td>1</td>\n",
       "      <td>1</td>\n",
       "      <td>0</td>\n",
       "      <td>0</td>\n",
       "      <td>1</td>\n",
       "      <td>0</td>\n",
       "      <td>...</td>\n",
       "      <td>0</td>\n",
       "      <td>0</td>\n",
       "      <td>0</td>\n",
       "      <td>0</td>\n",
       "      <td>22.895890</td>\n",
       "      <td>13.9</td>\n",
       "      <td>44.5</td>\n",
       "      <td>4.64</td>\n",
       "      <td>4.47</td>\n",
       "      <td>1.038858</td>\n",
       "    </tr>\n",
       "    <tr>\n",
       "      <th>184</th>\n",
       "      <td>1</td>\n",
       "      <td>0</td>\n",
       "      <td>1</td>\n",
       "      <td>1</td>\n",
       "      <td>1</td>\n",
       "      <td>1</td>\n",
       "      <td>0</td>\n",
       "      <td>1</td>\n",
       "      <td>1</td>\n",
       "      <td>0</td>\n",
       "      <td>...</td>\n",
       "      <td>0</td>\n",
       "      <td>0</td>\n",
       "      <td>0</td>\n",
       "      <td>0</td>\n",
       "      <td>27.347945</td>\n",
       "      <td>10.4</td>\n",
       "      <td>33.0</td>\n",
       "      <td>7.73</td>\n",
       "      <td>4.73</td>\n",
       "      <td>1.635559</td>\n",
       "    </tr>\n",
       "    <tr>\n",
       "      <th>185</th>\n",
       "      <td>0</td>\n",
       "      <td>1</td>\n",
       "      <td>1</td>\n",
       "      <td>0</td>\n",
       "      <td>1</td>\n",
       "      <td>1</td>\n",
       "      <td>0</td>\n",
       "      <td>1</td>\n",
       "      <td>1</td>\n",
       "      <td>0</td>\n",
       "      <td>...</td>\n",
       "      <td>0</td>\n",
       "      <td>1</td>\n",
       "      <td>0</td>\n",
       "      <td>0</td>\n",
       "      <td>27.780822</td>\n",
       "      <td>8.0</td>\n",
       "      <td>24.0</td>\n",
       "      <td>15.41</td>\n",
       "      <td>1.91</td>\n",
       "      <td>8.077770</td>\n",
       "    </tr>\n",
       "    <tr>\n",
       "      <th>186</th>\n",
       "      <td>1</td>\n",
       "      <td>1</td>\n",
       "      <td>1</td>\n",
       "      <td>0</td>\n",
       "      <td>1</td>\n",
       "      <td>1</td>\n",
       "      <td>0</td>\n",
       "      <td>0</td>\n",
       "      <td>1</td>\n",
       "      <td>0</td>\n",
       "      <td>...</td>\n",
       "      <td>0</td>\n",
       "      <td>0</td>\n",
       "      <td>0</td>\n",
       "      <td>0</td>\n",
       "      <td>55.553425</td>\n",
       "      <td>9.5</td>\n",
       "      <td>37.0</td>\n",
       "      <td>9.91</td>\n",
       "      <td>10.45</td>\n",
       "      <td>0.948135</td>\n",
       "    </tr>\n",
       "  </tbody>\n",
       "</table>\n",
       "<p>187 rows × 35 columns</p>\n",
       "</div>"
      ],
      "text/plain": [
       "     donor_CMV_present  recipient_gender_male  recipient_rh_plus  \\\n",
       "0                    1                      1                  1   \n",
       "1                    0                      1                  1   \n",
       "2                    0                      1                  1   \n",
       "3                    1                      0                  1   \n",
       "4                    0                      0                  0   \n",
       "..                 ...                    ...                ...   \n",
       "182                  1                      1                  0   \n",
       "183                  0                      0                  1   \n",
       "184                  1                      0                  1   \n",
       "185                  0                      1                  1   \n",
       "186                  1                      1                  1   \n",
       "\n",
       "     recipient_CMV_present  gender_match_other  ABO_match_mismatched  \\\n",
       "0                        1                   1                     0   \n",
       "1                        0                   1                     0   \n",
       "2                        1                   1                     0   \n",
       "3                        0                   1                     1   \n",
       "4                        1                   1                     1   \n",
       "..                     ...                 ...                   ...   \n",
       "182                      1                   1                     0   \n",
       "183                      1                   1                     1   \n",
       "184                      1                   1                     1   \n",
       "185                      0                   1                     1   \n",
       "186                      0                   1                     1   \n",
       "\n",
       "     HLA_mismatch_mismatched  risk_group_low  \\\n",
       "0                          0               0   \n",
       "1                          0               1   \n",
       "2                          0               1   \n",
       "3                          0               1   \n",
       "4                          0               0   \n",
       "..                       ...             ...   \n",
       "182                        0               0   \n",
       "183                        0               0   \n",
       "184                        0               1   \n",
       "185                        0               1   \n",
       "186                        0               0   \n",
       "\n",
       "     stem_cell_source_peripheral_blood  donor_ABO_0  ...  \\\n",
       "0                                    1            0  ...   \n",
       "1                                    0            0  ...   \n",
       "2                                    0            0  ...   \n",
       "3                                    0            0  ...   \n",
       "4                                    1            0  ...   \n",
       "..                                 ...          ...  ...   \n",
       "182                                  1            0  ...   \n",
       "183                                  1            0  ...   \n",
       "184                                  1            0  ...   \n",
       "185                                  1            0  ...   \n",
       "186                                  1            0  ...   \n",
       "\n",
       "     HLA_group_1_one_allel  HLA_group_1_one_antigen  HLA_group_1_three_diffs  \\\n",
       "0                        0                        0                        0   \n",
       "1                        0                        0                        0   \n",
       "2                        0                        0                        0   \n",
       "3                        0                        0                        0   \n",
       "4                        0                        1                        0   \n",
       "..                     ...                      ...                      ...   \n",
       "182                      0                        0                        0   \n",
       "183                      0                        0                        0   \n",
       "184                      0                        0                        0   \n",
       "185                      0                        1                        0   \n",
       "186                      0                        0                        0   \n",
       "\n",
       "     HLA_group_1_two_diffs  donor_age  recipient_age  recipient_body_mass  \\\n",
       "0                        0  22.830137            9.6                 35.0   \n",
       "1                        0  23.342466            4.0                 20.6   \n",
       "2                        0  26.394521            6.6                 23.4   \n",
       "3                        0  39.684932           18.1                 50.0   \n",
       "4                        0  33.358904            1.3                  9.0   \n",
       "..                     ...        ...            ...                  ...   \n",
       "182                      0  37.575342           12.9                 44.0   \n",
       "183                      0  22.895890           13.9                 44.5   \n",
       "184                      0  27.347945           10.4                 33.0   \n",
       "185                      0  27.780822            8.0                 24.0   \n",
       "186                      0  55.553425            9.5                 37.0   \n",
       "\n",
       "     CD34_x1e6_per_kg  CD3_x1e8_per_kg  CD3_to_CD34_ratio  \n",
       "0                7.20             5.38           1.338760  \n",
       "1                4.50             0.41          11.078295  \n",
       "2                7.94             0.42          19.013230  \n",
       "3                4.25             0.14          29.481647  \n",
       "4               51.85            13.05           3.972255  \n",
       "..                ...              ...                ...  \n",
       "182             11.08             4.39           2.522750  \n",
       "183              4.64             4.47           1.038858  \n",
       "184              7.73             4.73           1.635559  \n",
       "185             15.41             1.91           8.077770  \n",
       "186              9.91            10.45           0.948135  \n",
       "\n",
       "[187 rows x 35 columns]"
      ]
     },
     "execution_count": 32,
     "metadata": {},
     "output_type": "execute_result"
    }
   ],
   "source": [
    "data"
   ]
  },
  {
   "cell_type": "markdown",
   "metadata": {},
   "source": [
    "### Numeric variables"
   ]
  },
  {
   "cell_type": "code",
   "execution_count": 33,
   "metadata": {},
   "outputs": [
    {
     "data": {
      "text/html": [
       "<div>\n",
       "<style scoped>\n",
       "    .dataframe tbody tr th:only-of-type {\n",
       "        vertical-align: middle;\n",
       "    }\n",
       "\n",
       "    .dataframe tbody tr th {\n",
       "        vertical-align: top;\n",
       "    }\n",
       "\n",
       "    .dataframe thead th {\n",
       "        text-align: right;\n",
       "    }\n",
       "</style>\n",
       "<table border=\"1\" class=\"dataframe\">\n",
       "  <thead>\n",
       "    <tr style=\"text-align: right;\">\n",
       "      <th></th>\n",
       "      <th>donor_age</th>\n",
       "      <th>recipient_age</th>\n",
       "      <th>recipient_body_mass</th>\n",
       "      <th>CD34_x1e6_per_kg</th>\n",
       "      <th>CD3_x1e8_per_kg</th>\n",
       "      <th>CD3_to_CD34_ratio</th>\n",
       "    </tr>\n",
       "  </thead>\n",
       "  <tbody>\n",
       "    <tr>\n",
       "      <th>count</th>\n",
       "      <td>187.000000</td>\n",
       "      <td>187.000000</td>\n",
       "      <td>185.000000</td>\n",
       "      <td>187.000000</td>\n",
       "      <td>182.000000</td>\n",
       "      <td>182.000000</td>\n",
       "    </tr>\n",
       "    <tr>\n",
       "      <th>mean</th>\n",
       "      <td>33.472068</td>\n",
       "      <td>9.931551</td>\n",
       "      <td>35.801081</td>\n",
       "      <td>11.891781</td>\n",
       "      <td>4.745714</td>\n",
       "      <td>5.385096</td>\n",
       "    </tr>\n",
       "    <tr>\n",
       "      <th>std</th>\n",
       "      <td>8.271826</td>\n",
       "      <td>5.305639</td>\n",
       "      <td>19.650922</td>\n",
       "      <td>9.914386</td>\n",
       "      <td>3.859128</td>\n",
       "      <td>9.598716</td>\n",
       "    </tr>\n",
       "    <tr>\n",
       "      <th>min</th>\n",
       "      <td>18.646575</td>\n",
       "      <td>0.600000</td>\n",
       "      <td>6.000000</td>\n",
       "      <td>0.790000</td>\n",
       "      <td>0.040000</td>\n",
       "      <td>0.204132</td>\n",
       "    </tr>\n",
       "    <tr>\n",
       "      <th>25%</th>\n",
       "      <td>27.039726</td>\n",
       "      <td>5.050000</td>\n",
       "      <td>19.000000</td>\n",
       "      <td>5.350000</td>\n",
       "      <td>1.687500</td>\n",
       "      <td>1.786683</td>\n",
       "    </tr>\n",
       "    <tr>\n",
       "      <th>50%</th>\n",
       "      <td>33.550685</td>\n",
       "      <td>9.600000</td>\n",
       "      <td>33.000000</td>\n",
       "      <td>9.720000</td>\n",
       "      <td>4.325000</td>\n",
       "      <td>2.734462</td>\n",
       "    </tr>\n",
       "    <tr>\n",
       "      <th>75%</th>\n",
       "      <td>40.117809</td>\n",
       "      <td>14.050000</td>\n",
       "      <td>50.600000</td>\n",
       "      <td>15.415000</td>\n",
       "      <td>6.785000</td>\n",
       "      <td>5.823565</td>\n",
       "    </tr>\n",
       "    <tr>\n",
       "      <th>max</th>\n",
       "      <td>55.553425</td>\n",
       "      <td>20.200000</td>\n",
       "      <td>103.400000</td>\n",
       "      <td>57.780000</td>\n",
       "      <td>20.020000</td>\n",
       "      <td>99.560970</td>\n",
       "    </tr>\n",
       "  </tbody>\n",
       "</table>\n",
       "</div>"
      ],
      "text/plain": [
       "        donor_age  recipient_age  recipient_body_mass  CD34_x1e6_per_kg  \\\n",
       "count  187.000000     187.000000           185.000000        187.000000   \n",
       "mean    33.472068       9.931551            35.801081         11.891781   \n",
       "std      8.271826       5.305639            19.650922          9.914386   \n",
       "min     18.646575       0.600000             6.000000          0.790000   \n",
       "25%     27.039726       5.050000            19.000000          5.350000   \n",
       "50%     33.550685       9.600000            33.000000          9.720000   \n",
       "75%     40.117809      14.050000            50.600000         15.415000   \n",
       "max     55.553425      20.200000           103.400000         57.780000   \n",
       "\n",
       "       CD3_x1e8_per_kg  CD3_to_CD34_ratio  \n",
       "count       182.000000         182.000000  \n",
       "mean          4.745714           5.385096  \n",
       "std           3.859128           9.598716  \n",
       "min           0.040000           0.204132  \n",
       "25%           1.687500           1.786683  \n",
       "50%           4.325000           2.734462  \n",
       "75%           6.785000           5.823565  \n",
       "max          20.020000          99.560970  "
      ]
     },
     "execution_count": 33,
     "metadata": {},
     "output_type": "execute_result"
    }
   ],
   "source": [
    "data.iloc[:,-6:]._get_numeric_data().describe()"
   ]
  },
  {
   "cell_type": "markdown",
   "metadata": {},
   "source": [
    "### Data imputation"
   ]
  },
  {
   "cell_type": "markdown",
   "metadata": {},
   "source": [
    "There are not many missing values in numerical variables, they have been replaced with the mean."
   ]
  },
  {
   "cell_type": "code",
   "execution_count": 34,
   "metadata": {},
   "outputs": [
    {
     "data": {
      "text/html": [
       "<div>\n",
       "<style scoped>\n",
       "    .dataframe tbody tr th:only-of-type {\n",
       "        vertical-align: middle;\n",
       "    }\n",
       "\n",
       "    .dataframe tbody tr th {\n",
       "        vertical-align: top;\n",
       "    }\n",
       "\n",
       "    .dataframe thead th {\n",
       "        text-align: right;\n",
       "    }\n",
       "</style>\n",
       "<table border=\"1\" class=\"dataframe\">\n",
       "  <thead>\n",
       "    <tr style=\"text-align: right;\">\n",
       "      <th></th>\n",
       "      <th>donor_CMV_present</th>\n",
       "      <th>recipient_gender_male</th>\n",
       "      <th>recipient_rh_plus</th>\n",
       "      <th>recipient_CMV_present</th>\n",
       "      <th>gender_match_other</th>\n",
       "      <th>ABO_match_mismatched</th>\n",
       "      <th>HLA_mismatch_mismatched</th>\n",
       "      <th>risk_group_low</th>\n",
       "      <th>stem_cell_source_peripheral_blood</th>\n",
       "      <th>donor_ABO_0</th>\n",
       "      <th>...</th>\n",
       "      <th>HLA_group_1_one_allel</th>\n",
       "      <th>HLA_group_1_one_antigen</th>\n",
       "      <th>HLA_group_1_three_diffs</th>\n",
       "      <th>HLA_group_1_two_diffs</th>\n",
       "      <th>donor_age</th>\n",
       "      <th>recipient_age</th>\n",
       "      <th>recipient_body_mass</th>\n",
       "      <th>CD34_x1e6_per_kg</th>\n",
       "      <th>CD3_x1e8_per_kg</th>\n",
       "      <th>CD3_to_CD34_ratio</th>\n",
       "    </tr>\n",
       "  </thead>\n",
       "  <tbody>\n",
       "    <tr>\n",
       "      <th>0</th>\n",
       "      <td>1.0</td>\n",
       "      <td>1.0</td>\n",
       "      <td>1.0</td>\n",
       "      <td>1.0</td>\n",
       "      <td>1.0</td>\n",
       "      <td>0.0</td>\n",
       "      <td>0.0</td>\n",
       "      <td>0.0</td>\n",
       "      <td>1.0</td>\n",
       "      <td>0.0</td>\n",
       "      <td>...</td>\n",
       "      <td>0.0</td>\n",
       "      <td>0.0</td>\n",
       "      <td>0.0</td>\n",
       "      <td>0.0</td>\n",
       "      <td>22.830137</td>\n",
       "      <td>9.6</td>\n",
       "      <td>35.0</td>\n",
       "      <td>7.20</td>\n",
       "      <td>5.38</td>\n",
       "      <td>1.338760</td>\n",
       "    </tr>\n",
       "    <tr>\n",
       "      <th>1</th>\n",
       "      <td>0.0</td>\n",
       "      <td>1.0</td>\n",
       "      <td>1.0</td>\n",
       "      <td>0.0</td>\n",
       "      <td>1.0</td>\n",
       "      <td>0.0</td>\n",
       "      <td>0.0</td>\n",
       "      <td>1.0</td>\n",
       "      <td>0.0</td>\n",
       "      <td>0.0</td>\n",
       "      <td>...</td>\n",
       "      <td>0.0</td>\n",
       "      <td>0.0</td>\n",
       "      <td>0.0</td>\n",
       "      <td>0.0</td>\n",
       "      <td>23.342466</td>\n",
       "      <td>4.0</td>\n",
       "      <td>20.6</td>\n",
       "      <td>4.50</td>\n",
       "      <td>0.41</td>\n",
       "      <td>11.078295</td>\n",
       "    </tr>\n",
       "    <tr>\n",
       "      <th>2</th>\n",
       "      <td>0.0</td>\n",
       "      <td>1.0</td>\n",
       "      <td>1.0</td>\n",
       "      <td>1.0</td>\n",
       "      <td>1.0</td>\n",
       "      <td>0.0</td>\n",
       "      <td>0.0</td>\n",
       "      <td>1.0</td>\n",
       "      <td>0.0</td>\n",
       "      <td>0.0</td>\n",
       "      <td>...</td>\n",
       "      <td>0.0</td>\n",
       "      <td>0.0</td>\n",
       "      <td>0.0</td>\n",
       "      <td>0.0</td>\n",
       "      <td>26.394521</td>\n",
       "      <td>6.6</td>\n",
       "      <td>23.4</td>\n",
       "      <td>7.94</td>\n",
       "      <td>0.42</td>\n",
       "      <td>19.013230</td>\n",
       "    </tr>\n",
       "    <tr>\n",
       "      <th>3</th>\n",
       "      <td>1.0</td>\n",
       "      <td>0.0</td>\n",
       "      <td>1.0</td>\n",
       "      <td>0.0</td>\n",
       "      <td>1.0</td>\n",
       "      <td>1.0</td>\n",
       "      <td>0.0</td>\n",
       "      <td>1.0</td>\n",
       "      <td>0.0</td>\n",
       "      <td>0.0</td>\n",
       "      <td>...</td>\n",
       "      <td>0.0</td>\n",
       "      <td>0.0</td>\n",
       "      <td>0.0</td>\n",
       "      <td>0.0</td>\n",
       "      <td>39.684932</td>\n",
       "      <td>18.1</td>\n",
       "      <td>50.0</td>\n",
       "      <td>4.25</td>\n",
       "      <td>0.14</td>\n",
       "      <td>29.481647</td>\n",
       "    </tr>\n",
       "    <tr>\n",
       "      <th>4</th>\n",
       "      <td>0.0</td>\n",
       "      <td>0.0</td>\n",
       "      <td>0.0</td>\n",
       "      <td>1.0</td>\n",
       "      <td>1.0</td>\n",
       "      <td>1.0</td>\n",
       "      <td>0.0</td>\n",
       "      <td>0.0</td>\n",
       "      <td>1.0</td>\n",
       "      <td>0.0</td>\n",
       "      <td>...</td>\n",
       "      <td>0.0</td>\n",
       "      <td>1.0</td>\n",
       "      <td>0.0</td>\n",
       "      <td>0.0</td>\n",
       "      <td>33.358904</td>\n",
       "      <td>1.3</td>\n",
       "      <td>9.0</td>\n",
       "      <td>51.85</td>\n",
       "      <td>13.05</td>\n",
       "      <td>3.972255</td>\n",
       "    </tr>\n",
       "    <tr>\n",
       "      <th>...</th>\n",
       "      <td>...</td>\n",
       "      <td>...</td>\n",
       "      <td>...</td>\n",
       "      <td>...</td>\n",
       "      <td>...</td>\n",
       "      <td>...</td>\n",
       "      <td>...</td>\n",
       "      <td>...</td>\n",
       "      <td>...</td>\n",
       "      <td>...</td>\n",
       "      <td>...</td>\n",
       "      <td>...</td>\n",
       "      <td>...</td>\n",
       "      <td>...</td>\n",
       "      <td>...</td>\n",
       "      <td>...</td>\n",
       "      <td>...</td>\n",
       "      <td>...</td>\n",
       "      <td>...</td>\n",
       "      <td>...</td>\n",
       "      <td>...</td>\n",
       "    </tr>\n",
       "    <tr>\n",
       "      <th>182</th>\n",
       "      <td>1.0</td>\n",
       "      <td>1.0</td>\n",
       "      <td>0.0</td>\n",
       "      <td>1.0</td>\n",
       "      <td>1.0</td>\n",
       "      <td>0.0</td>\n",
       "      <td>0.0</td>\n",
       "      <td>0.0</td>\n",
       "      <td>1.0</td>\n",
       "      <td>0.0</td>\n",
       "      <td>...</td>\n",
       "      <td>0.0</td>\n",
       "      <td>0.0</td>\n",
       "      <td>0.0</td>\n",
       "      <td>0.0</td>\n",
       "      <td>37.575342</td>\n",
       "      <td>12.9</td>\n",
       "      <td>44.0</td>\n",
       "      <td>11.08</td>\n",
       "      <td>4.39</td>\n",
       "      <td>2.522750</td>\n",
       "    </tr>\n",
       "    <tr>\n",
       "      <th>183</th>\n",
       "      <td>0.0</td>\n",
       "      <td>0.0</td>\n",
       "      <td>1.0</td>\n",
       "      <td>1.0</td>\n",
       "      <td>1.0</td>\n",
       "      <td>1.0</td>\n",
       "      <td>0.0</td>\n",
       "      <td>0.0</td>\n",
       "      <td>1.0</td>\n",
       "      <td>0.0</td>\n",
       "      <td>...</td>\n",
       "      <td>0.0</td>\n",
       "      <td>0.0</td>\n",
       "      <td>0.0</td>\n",
       "      <td>0.0</td>\n",
       "      <td>22.895890</td>\n",
       "      <td>13.9</td>\n",
       "      <td>44.5</td>\n",
       "      <td>4.64</td>\n",
       "      <td>4.47</td>\n",
       "      <td>1.038858</td>\n",
       "    </tr>\n",
       "    <tr>\n",
       "      <th>184</th>\n",
       "      <td>1.0</td>\n",
       "      <td>0.0</td>\n",
       "      <td>1.0</td>\n",
       "      <td>1.0</td>\n",
       "      <td>1.0</td>\n",
       "      <td>1.0</td>\n",
       "      <td>0.0</td>\n",
       "      <td>1.0</td>\n",
       "      <td>1.0</td>\n",
       "      <td>0.0</td>\n",
       "      <td>...</td>\n",
       "      <td>0.0</td>\n",
       "      <td>0.0</td>\n",
       "      <td>0.0</td>\n",
       "      <td>0.0</td>\n",
       "      <td>27.347945</td>\n",
       "      <td>10.4</td>\n",
       "      <td>33.0</td>\n",
       "      <td>7.73</td>\n",
       "      <td>4.73</td>\n",
       "      <td>1.635559</td>\n",
       "    </tr>\n",
       "    <tr>\n",
       "      <th>185</th>\n",
       "      <td>0.0</td>\n",
       "      <td>1.0</td>\n",
       "      <td>1.0</td>\n",
       "      <td>0.0</td>\n",
       "      <td>1.0</td>\n",
       "      <td>1.0</td>\n",
       "      <td>0.0</td>\n",
       "      <td>1.0</td>\n",
       "      <td>1.0</td>\n",
       "      <td>0.0</td>\n",
       "      <td>...</td>\n",
       "      <td>0.0</td>\n",
       "      <td>1.0</td>\n",
       "      <td>0.0</td>\n",
       "      <td>0.0</td>\n",
       "      <td>27.780822</td>\n",
       "      <td>8.0</td>\n",
       "      <td>24.0</td>\n",
       "      <td>15.41</td>\n",
       "      <td>1.91</td>\n",
       "      <td>8.077770</td>\n",
       "    </tr>\n",
       "    <tr>\n",
       "      <th>186</th>\n",
       "      <td>1.0</td>\n",
       "      <td>1.0</td>\n",
       "      <td>1.0</td>\n",
       "      <td>0.0</td>\n",
       "      <td>1.0</td>\n",
       "      <td>1.0</td>\n",
       "      <td>0.0</td>\n",
       "      <td>0.0</td>\n",
       "      <td>1.0</td>\n",
       "      <td>0.0</td>\n",
       "      <td>...</td>\n",
       "      <td>0.0</td>\n",
       "      <td>0.0</td>\n",
       "      <td>0.0</td>\n",
       "      <td>0.0</td>\n",
       "      <td>55.553425</td>\n",
       "      <td>9.5</td>\n",
       "      <td>37.0</td>\n",
       "      <td>9.91</td>\n",
       "      <td>10.45</td>\n",
       "      <td>0.948135</td>\n",
       "    </tr>\n",
       "  </tbody>\n",
       "</table>\n",
       "<p>187 rows × 35 columns</p>\n",
       "</div>"
      ],
      "text/plain": [
       "     donor_CMV_present  recipient_gender_male  recipient_rh_plus  \\\n",
       "0                  1.0                    1.0                1.0   \n",
       "1                  0.0                    1.0                1.0   \n",
       "2                  0.0                    1.0                1.0   \n",
       "3                  1.0                    0.0                1.0   \n",
       "4                  0.0                    0.0                0.0   \n",
       "..                 ...                    ...                ...   \n",
       "182                1.0                    1.0                0.0   \n",
       "183                0.0                    0.0                1.0   \n",
       "184                1.0                    0.0                1.0   \n",
       "185                0.0                    1.0                1.0   \n",
       "186                1.0                    1.0                1.0   \n",
       "\n",
       "     recipient_CMV_present  gender_match_other  ABO_match_mismatched  \\\n",
       "0                      1.0                 1.0                   0.0   \n",
       "1                      0.0                 1.0                   0.0   \n",
       "2                      1.0                 1.0                   0.0   \n",
       "3                      0.0                 1.0                   1.0   \n",
       "4                      1.0                 1.0                   1.0   \n",
       "..                     ...                 ...                   ...   \n",
       "182                    1.0                 1.0                   0.0   \n",
       "183                    1.0                 1.0                   1.0   \n",
       "184                    1.0                 1.0                   1.0   \n",
       "185                    0.0                 1.0                   1.0   \n",
       "186                    0.0                 1.0                   1.0   \n",
       "\n",
       "     HLA_mismatch_mismatched  risk_group_low  \\\n",
       "0                        0.0             0.0   \n",
       "1                        0.0             1.0   \n",
       "2                        0.0             1.0   \n",
       "3                        0.0             1.0   \n",
       "4                        0.0             0.0   \n",
       "..                       ...             ...   \n",
       "182                      0.0             0.0   \n",
       "183                      0.0             0.0   \n",
       "184                      0.0             1.0   \n",
       "185                      0.0             1.0   \n",
       "186                      0.0             0.0   \n",
       "\n",
       "     stem_cell_source_peripheral_blood  donor_ABO_0  ...  \\\n",
       "0                                  1.0          0.0  ...   \n",
       "1                                  0.0          0.0  ...   \n",
       "2                                  0.0          0.0  ...   \n",
       "3                                  0.0          0.0  ...   \n",
       "4                                  1.0          0.0  ...   \n",
       "..                                 ...          ...  ...   \n",
       "182                                1.0          0.0  ...   \n",
       "183                                1.0          0.0  ...   \n",
       "184                                1.0          0.0  ...   \n",
       "185                                1.0          0.0  ...   \n",
       "186                                1.0          0.0  ...   \n",
       "\n",
       "     HLA_group_1_one_allel  HLA_group_1_one_antigen  HLA_group_1_three_diffs  \\\n",
       "0                      0.0                      0.0                      0.0   \n",
       "1                      0.0                      0.0                      0.0   \n",
       "2                      0.0                      0.0                      0.0   \n",
       "3                      0.0                      0.0                      0.0   \n",
       "4                      0.0                      1.0                      0.0   \n",
       "..                     ...                      ...                      ...   \n",
       "182                    0.0                      0.0                      0.0   \n",
       "183                    0.0                      0.0                      0.0   \n",
       "184                    0.0                      0.0                      0.0   \n",
       "185                    0.0                      1.0                      0.0   \n",
       "186                    0.0                      0.0                      0.0   \n",
       "\n",
       "     HLA_group_1_two_diffs  donor_age  recipient_age  recipient_body_mass  \\\n",
       "0                      0.0  22.830137            9.6                 35.0   \n",
       "1                      0.0  23.342466            4.0                 20.6   \n",
       "2                      0.0  26.394521            6.6                 23.4   \n",
       "3                      0.0  39.684932           18.1                 50.0   \n",
       "4                      0.0  33.358904            1.3                  9.0   \n",
       "..                     ...        ...            ...                  ...   \n",
       "182                    0.0  37.575342           12.9                 44.0   \n",
       "183                    0.0  22.895890           13.9                 44.5   \n",
       "184                    0.0  27.347945           10.4                 33.0   \n",
       "185                    0.0  27.780822            8.0                 24.0   \n",
       "186                    0.0  55.553425            9.5                 37.0   \n",
       "\n",
       "     CD34_x1e6_per_kg  CD3_x1e8_per_kg  CD3_to_CD34_ratio  \n",
       "0                7.20             5.38           1.338760  \n",
       "1                4.50             0.41          11.078295  \n",
       "2                7.94             0.42          19.013230  \n",
       "3                4.25             0.14          29.481647  \n",
       "4               51.85            13.05           3.972255  \n",
       "..                ...              ...                ...  \n",
       "182             11.08             4.39           2.522750  \n",
       "183              4.64             4.47           1.038858  \n",
       "184              7.73             4.73           1.635559  \n",
       "185             15.41             1.91           8.077770  \n",
       "186              9.91            10.45           0.948135  \n",
       "\n",
       "[187 rows x 35 columns]"
      ]
     },
     "execution_count": 34,
     "metadata": {},
     "output_type": "execute_result"
    }
   ],
   "source": [
    "from sklearn.impute import SimpleImputer\n",
    "\n",
    "imp_mean = SimpleImputer(missing_values=np.nan, strategy='mean')\n",
    "imp_data = imp_mean.fit_transform(data)\n",
    "imp_data = pd.DataFrame(imp_data, columns = data.columns)\n",
    "data = imp_data\n",
    "data"
   ]
  },
  {
   "cell_type": "markdown",
   "metadata": {},
   "source": [
    "## 4. Correlation"
   ]
  },
  {
   "cell_type": "code",
   "execution_count": 35,
   "metadata": {},
   "outputs": [],
   "source": [
    "import matplotlib.pyplot as plt\n",
    "import seaborn as sns"
   ]
  },
  {
   "cell_type": "code",
   "execution_count": 36,
   "metadata": {},
   "outputs": [
    {
     "data": {
      "image/png": "[encoded data removed]",
      "text/plain": [
       "<Figure size 720x720 with 2 Axes>"
      ]
     },
     "metadata": {
      "needs_background": "light"
     },
     "output_type": "display_data"
    }
   ],
   "source": [
    "corr = imp_data.corr()\n",
    "\n",
    "plt.figure(figsize=(10,10))\n",
    "sns.heatmap(corr,)\n",
    "plt.show()"
   ]
  },
  {
   "cell_type": "markdown",
   "metadata": {},
   "source": [
    "We can see the expected relationship between the drug dose administered, weight and age of the patient"
   ]
  },
  {
   "cell_type": "markdown",
   "metadata": {},
   "source": [
    "# Variable importance "
   ]
  },
  {
   "cell_type": "markdown",
   "metadata": {},
   "source": [
    "## 5. Information value\n",
    "Information value for categorical variables"
   ]
  },
  {
   "cell_type": "code",
   "execution_count": 37,
   "metadata": {},
   "outputs": [
    {
     "name": "stdout",
     "output_type": "stream",
     "text": [
      "survival_status           0         1       woe        iv\n",
      "donor_CMV_present                                        \n",
      "0                  0.588235  0.647059  0.095310  0.014674\n",
      "1                  0.411765  0.352941 -0.154151  0.014674\n",
      "----------------------------------\n",
      "survival_status               0         1       woe        iv\n",
      "recipient_gender_male                                        \n",
      "0                      0.411765  0.388235 -0.058841  0.002307\n",
      "1                      0.588235  0.611765  0.039221  0.002307\n",
      "----------------------------------\n",
      "survival_status           0         1       woe      iv\n",
      "recipient_rh_plus                                      \n",
      "0                  0.186275  0.094118 -0.682676  0.0728\n",
      "1                  0.813725  0.905882  0.107286  0.0728\n",
      "----------------------------------\n",
      "survival_status               0         1       woe        iv\n",
      "recipient_CMV_present                                        \n",
      "0                      0.421569  0.352941 -0.177681  0.019888\n",
      "1                      0.578431  0.647059  0.112117  0.019888\n",
      "----------------------------------\n",
      "survival_status            0         1       woe        iv\n",
      "gender_match_other                                        \n",
      "0                   0.166667  0.176471  0.057158  0.000676\n",
      "1                   0.833333  0.823529 -0.011834  0.000676\n",
      "----------------------------------\n",
      "survival_status              0         1       woe        iv\n",
      "ABO_match_mismatched                                        \n",
      "0                     0.245098  0.317647  0.259283  0.026141\n",
      "1                     0.754902  0.682353 -0.101041  0.026141\n",
      "----------------------------------\n",
      "survival_status                 0         1       woe        iv\n",
      "HLA_mismatch_mismatched                                        \n",
      "0                        0.852941  0.847059 -0.006920  0.000271\n",
      "1                        0.147059  0.152941  0.039221  0.000271\n",
      "----------------------------------\n",
      "survival_status         0         1       woe        iv\n",
      "risk_group_low                                         \n",
      "0                0.303922  0.447059  0.385921  0.088191\n",
      "1                0.696078  0.552941 -0.230211  0.088191\n",
      "----------------------------------\n",
      "survival_status                           0         1       woe        iv\n",
      "stem_cell_source_peripheral_blood                                        \n",
      "0                                  0.176471  0.282353  0.470004  0.064337\n",
      "1                                  0.823529  0.717647 -0.137621  0.064337\n",
      "----------------------------------\n",
      "survival_status         0         1       woe        iv\n",
      "donor_ABO_0                                            \n",
      "0                0.607843  0.611765  0.006431  0.000065\n",
      "1                0.392157  0.388235 -0.010050  0.000065\n",
      "----------------------------------\n",
      "survival_status         0         1       woe        iv\n",
      "donor_ABO_A                                            \n",
      "0                0.656863  0.576471 -0.130551  0.027417\n",
      "1                0.343137  0.423529  0.210492  0.027417\n",
      "----------------------------------\n",
      "survival_status         0         1       woe        iv\n",
      "donor_ABO_AB                                           \n",
      "0                0.892157  0.952941  0.065911  0.054414\n",
      "1                0.107843  0.047059 -0.829279  0.054414\n",
      "----------------------------------\n",
      "survival_status         0         1       woe        iv\n",
      "donor_ABO_B                                            \n",
      "0                0.843137  0.858824  0.018434  0.001942\n",
      "1                0.156863  0.141176 -0.105361  0.001942\n",
      "----------------------------------\n",
      "survival_status         0         1       woe        iv\n",
      "recipient_ABO_0                                        \n",
      "0                0.735294  0.752941  0.023717  0.001636\n",
      "1                0.264706  0.247059 -0.068993  0.001636\n",
      "----------------------------------\n",
      "survival_status         0         1       woe        iv\n",
      "recipient_ABO_A                                        \n",
      "0                0.617647  0.564706 -0.089612  0.011609\n",
      "1                0.382353  0.435294  0.129678  0.011609\n",
      "----------------------------------\n",
      "survival_status          0         1       woe        iv\n",
      "recipient_ABO_AB                                        \n",
      "0                 0.921569  0.941176  0.021053  0.006054\n",
      "1                 0.078431  0.058824 -0.287682  0.006054\n",
      "----------------------------------\n",
      "survival_status        0         1       woe        iv\n",
      "recipient_ABO_B                                       \n",
      "0                0.72549  0.741176  0.021391  0.001259\n",
      "1                0.27451  0.258824 -0.058841  0.001259\n",
      "----------------------------------\n",
      "survival_status         0         1       woe        iv\n",
      "disease_ALL                                            \n",
      "0                0.627451  0.647059  0.030772  0.001664\n",
      "1                0.372549  0.352941 -0.054067  0.001664\n",
      "----------------------------------\n",
      "survival_status         0         1  woe   iv\n",
      "disease_AML                                  \n",
      "0                0.823529  0.823529  0.0  0.0\n",
      "1                0.176471  0.176471  0.0  0.0\n",
      "----------------------------------\n",
      "survival_status         0         1       woe        iv\n",
      "disease_chronic                                        \n",
      "0                0.745098  0.776471  0.041243  0.005414\n",
      "1                0.254902  0.223529 -0.131336  0.005414\n",
      "----------------------------------\n",
      "survival_status     0         1       woe   iv\n",
      "disease_lymphoma                              \n",
      "0                 1.0  0.894118 -0.111918  inf\n",
      "1                 0.0  0.105882       inf  inf\n",
      "----------------------------------\n",
      "survival_status              0         1       woe        iv\n",
      "disease_nonmalignant                                        \n",
      "0                     0.803922  0.858824  0.066062  0.021662\n",
      "1                     0.196078  0.141176 -0.328504  0.021662\n",
      "----------------------------------\n",
      "survival_status               0         1       woe        iv\n",
      "HLA_group_1_DRB1_cell                                        \n",
      "0                      0.960784  0.941176 -0.020619  0.008355\n",
      "1                      0.039216  0.058824  0.405465  0.008355\n",
      "----------------------------------\n",
      "survival_status             0         1       woe        iv\n",
      "HLA_group_1_matched                                        \n",
      "0                    0.480392  0.517647  0.074691  0.005554\n",
      "1                    0.519608  0.482353 -0.074398  0.005554\n",
      "----------------------------------\n",
      "survival_status                0         1       woe        iv\n",
      "HLA_group_1_mismatched                                        \n",
      "0                       0.980392  0.964706 -0.016129  0.009473\n",
      "1                       0.019608  0.035294  0.587787  0.009473\n",
      "----------------------------------\n",
      "survival_status               0         1       woe        iv\n",
      "HLA_group_1_one_allel                                        \n",
      "0                      0.921569  0.929412  0.008475  0.000893\n",
      "1                      0.078431  0.070588 -0.105361  0.000893\n",
      "----------------------------------\n",
      "survival_status                 0         1       woe        iv\n",
      "HLA_group_1_one_antigen                                        \n",
      "0                        0.784314  0.764706 -0.025318  0.002203\n",
      "1                        0.215686  0.235294  0.087011  0.002203\n",
      "----------------------------------\n",
      "survival_status                 0         1       woe        iv\n",
      "HLA_group_1_three_diffs                                        \n",
      "0                        0.970588  0.988235  0.018019  0.016488\n",
      "1                        0.029412  0.011765 -0.916291  0.016488\n",
      "----------------------------------\n",
      "survival_status               0         1       woe        iv\n",
      "HLA_group_1_two_diffs                                        \n",
      "0                      0.901961  0.894118 -0.008734  0.000672\n",
      "1                      0.098039  0.105882  0.076961  0.000672\n",
      "----------------------------------\n"
     ]
    }
   ],
   "source": [
    "IV = []\n",
    "\n",
    "for i in data.columns[:-6]:\n",
    "    IV_table =(pd.crosstab(data[i].astype(int),y.astype(int),\n",
    "                      normalize='columns')\n",
    "             .assign(woe=lambda dfx: np.log(dfx[1] / dfx[0]))\n",
    "             .assign(iv=lambda dfx: np.sum(dfx['woe']*\n",
    "                                           (dfx[1]-dfx[0]))))\n",
    "    IV.append(IV_table[\"iv\"][0])\n",
    "    \n",
    "    print(IV_table)\n",
    "    print(\"----------------------------------\")"
   ]
  },
  {
   "cell_type": "markdown",
   "metadata": {},
   "source": [
    "For the remaining variables, they were categorized into two equal categories"
   ]
  },
  {
   "cell_type": "code",
   "execution_count": 38,
   "metadata": {},
   "outputs": [
    {
     "name": "stdout",
     "output_type": "stream",
     "text": [
      "survival_status          0         1       woe        iv\n",
      "donor_age                                               \n",
      "(17.647, 33.551]  0.558824  0.435294 -0.249812  0.061354\n",
      "(33.551, 55.553]  0.441176  0.564706  0.246860  0.061354\n",
      "----------------------------------\n",
      "survival_status         0         1       woe        iv\n",
      "recipient_age                                          \n",
      "(-0.4, 9.6]      0.588235  0.411765 -0.356675  0.125885\n",
      "(9.6, 20.2]      0.411765  0.588235  0.356675  0.125885\n",
      "----------------------------------\n",
      "survival_status             0    1       woe        iv\n",
      "recipient_body_mass                                   \n",
      "(5.0, 33.0]          0.598039  0.4 -0.402192  0.158979\n",
      "(33.0, 103.4]        0.401961  0.6  0.400575  0.158979\n",
      "----------------------------------\n",
      "survival_status          0         1       woe        iv\n",
      "CD34_x1e6_per_kg                                        \n",
      "(-0.21, 9.72]     0.411765  0.611765  0.395896  0.162282\n",
      "(9.72, 57.78]     0.588235  0.388235 -0.415515  0.162282\n",
      "----------------------------------\n",
      "survival_status         0         1       woe        iv\n",
      "CD3_x1e8_per_kg                                        \n",
      "(-0.96, 4.47]    0.431373  0.588235  0.310155  0.099283\n",
      "(4.47, 20.02]    0.568627  0.411765 -0.322773  0.099283\n",
      "----------------------------------\n",
      "survival_status           0         1       woe        iv\n",
      "CD3_to_CD34_ratio                                        \n",
      "(-0.796, 2.781]    0.529412  0.470588 -0.117783  0.013857\n",
      "(2.781, 99.561]    0.470588  0.529412  0.117783  0.013857\n",
      "----------------------------------\n"
     ]
    }
   ],
   "source": [
    "for i in data.columns[-6:]:\n",
    "    IV_table =(pd.crosstab(pd.cut(data[i],bins=[np.quantile(data[i],0.0)-1,\n",
    "                                                np.quantile(data[i],0.5),\n",
    "                                                np.quantile(data[i],1.0)]),y.astype(int),\n",
    "                      normalize='columns')\n",
    "             .assign(woe=lambda dfx: np.log(dfx[1] / dfx[0]))\n",
    "             .assign(iv=lambda dfx: np.sum(dfx['woe']*\n",
    "                                           (dfx[1]-dfx[0]))))\n",
    "    IV.append(IV_table[\"iv\"][0])\n",
    "    \n",
    "    print(IV_table)\n",
    "    print(\"----------------------------------\")"
   ]
  },
  {
   "cell_type": "code",
   "execution_count": 39,
   "metadata": {},
   "outputs": [
    {
     "data": {
      "image/png": "[encoded data removed]",
      "text/plain": [
       "<Figure size 720x360 with 1 Axes>"
      ]
     },
     "metadata": {
      "needs_background": "light"
     },
     "output_type": "display_data"
    }
   ],
   "source": [
    "plt.figure(figsize=(10,5))\n",
    "plt.bar(data.columns,height= IV)\n",
    "plt.xticks(rotation=90)\n",
    "plt.show()"
   ]
  },
  {
   "cell_type": "code",
   "execution_count": 40,
   "metadata": {},
   "outputs": [],
   "source": [
    "IV =pd.Series(data=IV, index=data.columns)"
   ]
  },
  {
   "cell_type": "code",
   "execution_count": 41,
   "metadata": {},
   "outputs": [
    {
     "data": {
      "text/plain": [
       "donor_CMV_present                    16.0\n",
       "recipient_gender_male                24.0\n",
       "recipient_rh_plus                     7.0\n",
       "recipient_CMV_present                14.0\n",
       "gender_match_other                   31.0\n",
       "ABO_match_mismatched                 12.0\n",
       "HLA_mismatch_mismatched              33.0\n",
       "risk_group_low                        6.0\n",
       "stem_cell_source_peripheral_blood     8.0\n",
       "donor_ABO_0                          34.0\n",
       "donor_ABO_A                          11.0\n",
       "donor_ABO_AB                         10.0\n",
       "donor_ABO_B                          26.0\n",
       "recipient_ABO_0                      28.0\n",
       "recipient_ABO_A                      18.0\n",
       "recipient_ABO_AB                     21.0\n",
       "recipient_ABO_B                      29.0\n",
       "disease_ALL                          27.0\n",
       "disease_AML                          35.0\n",
       "disease_chronic                      23.0\n",
       "disease_lymphoma                      1.0\n",
       "disease_nonmalignant                 13.0\n",
       "HLA_group_1_DRB1_cell                20.0\n",
       "HLA_group_1_matched                  22.0\n",
       "HLA_group_1_mismatched               19.0\n",
       "HLA_group_1_one_allel                30.0\n",
       "HLA_group_1_one_antigen              25.0\n",
       "HLA_group_1_three_diffs              15.0\n",
       "HLA_group_1_two_diffs                32.0\n",
       "donor_age                             9.0\n",
       "recipient_age                         4.0\n",
       "recipient_body_mass                   3.0\n",
       "CD34_x1e6_per_kg                      2.0\n",
       "CD3_x1e8_per_kg                       5.0\n",
       "CD3_to_CD34_ratio                    17.0\n",
       "dtype: float64"
      ]
     },
     "execution_count": 41,
     "metadata": {},
     "output_type": "execute_result"
    }
   ],
   "source": [
    "IV_ranking = (IV*(-1)).rank()\n",
    "IV_ranking"
   ]
  },
  {
   "cell_type": "markdown",
   "metadata": {},
   "source": [
    "You can see the low overall value of IV.\n",
    "\n",
    "An additional difficulty is the _disease lymphoma_ variable, which for one category takes only one value in the target variable.\n",
    "It may not be informative as it is not very numerous"
   ]
  },
  {
   "cell_type": "markdown",
   "metadata": {},
   "source": [
    "For this method, we can assume that about the first 10 variables have a significantly greater IV than the rest. the effectiveness of this method will be determined using a model based on these variables."
   ]
  },
  {
   "cell_type": "markdown",
   "metadata": {},
   "source": [
    "## 6. Benchmark Model training"
   ]
  },
  {
   "cell_type": "markdown",
   "metadata": {},
   "source": [
    "The first step in determining the significance of variables based on the remaining algorithms is to create a random forest model.\n",
    "\n",
    "At the same time, such a model will be used to compare the performance of individual methods"
   ]
  },
  {
   "cell_type": "code",
   "execution_count": 42,
   "metadata": {},
   "outputs": [],
   "source": [
    "import pandas as pd\n",
    "from sklearn.ensemble import RandomForestClassifier\n",
    "from sklearn.model_selection import GridSearchCV\n",
    "from sklearn.model_selection import KFold"
   ]
  },
  {
   "cell_type": "code",
   "execution_count": 43,
   "metadata": {},
   "outputs": [],
   "source": [
    "seed=123\n",
    "kfold = KFold(n_splits=10, random_state=seed, shuffle=True)\n",
    "scoring = 'accuracy'"
   ]
  },
  {
   "cell_type": "code",
   "execution_count": 44,
   "metadata": {},
   "outputs": [],
   "source": [
    "rf = RandomForestClassifier()"
   ]
  },
  {
   "cell_type": "markdown",
   "metadata": {},
   "source": [
    "###  Grid Search"
   ]
  },
  {
   "cell_type": "code",
   "execution_count": 45,
   "metadata": {},
   "outputs": [
    {
     "ename": "KeyboardInterrupt",
     "evalue": "",
     "output_type": "error",
     "traceback": [
      "\u001b[1;31m---------------------------------------------------------------------------\u001b[0m",
      "\u001b[1;31mKeyboardInterrupt\u001b[0m                         Traceback (most recent call last)",
      "\u001b[1;32m<ipython-input-45-40036ca9efb5>\u001b[0m in \u001b[0;36m<module>\u001b[1;34m\u001b[0m\n\u001b[0;32m      9\u001b[0m                     \u001b[0mscoring\u001b[0m\u001b[1;33m=\u001b[0m\u001b[0mscoring\u001b[0m\u001b[1;33m,\u001b[0m\u001b[1;33m\u001b[0m\u001b[1;33m\u001b[0m\u001b[0m\n\u001b[0;32m     10\u001b[0m                     refit=True)\n\u001b[1;32m---> 11\u001b[1;33m \u001b[0mgrid\u001b[0m\u001b[1;33m.\u001b[0m\u001b[0mfit\u001b[0m\u001b[1;33m(\u001b[0m\u001b[0mdata\u001b[0m\u001b[1;33m,\u001b[0m \u001b[0my\u001b[0m\u001b[1;33m)\u001b[0m\u001b[1;33m\u001b[0m\u001b[1;33m\u001b[0m\u001b[0m\n\u001b[0m\u001b[0;32m     12\u001b[0m \u001b[0mgrid\u001b[0m\u001b[1;33m.\u001b[0m\u001b[0mbest_params_\u001b[0m\u001b[1;33m\u001b[0m\u001b[1;33m\u001b[0m\u001b[0m\n",
      "\u001b[1;32m~\\Anaconda3\\lib\\site-packages\\sklearn\\utils\\validation.py\u001b[0m in \u001b[0;36minner_f\u001b[1;34m(*args, **kwargs)\u001b[0m\n\u001b[0;32m     61\u001b[0m             \u001b[0mextra_args\u001b[0m \u001b[1;33m=\u001b[0m \u001b[0mlen\u001b[0m\u001b[1;33m(\u001b[0m\u001b[0margs\u001b[0m\u001b[1;33m)\u001b[0m \u001b[1;33m-\u001b[0m \u001b[0mlen\u001b[0m\u001b[1;33m(\u001b[0m\u001b[0mall_args\u001b[0m\u001b[1;33m)\u001b[0m\u001b[1;33m\u001b[0m\u001b[1;33m\u001b[0m\u001b[0m\n\u001b[0;32m     62\u001b[0m             \u001b[1;32mif\u001b[0m \u001b[0mextra_args\u001b[0m \u001b[1;33m<=\u001b[0m \u001b[1;36m0\u001b[0m\u001b[1;33m:\u001b[0m\u001b[1;33m\u001b[0m\u001b[1;33m\u001b[0m\u001b[0m\n\u001b[1;32m---> 63\u001b[1;33m                 \u001b[1;32mreturn\u001b[0m \u001b[0mf\u001b[0m\u001b[1;33m(\u001b[0m\u001b[1;33m*\u001b[0m\u001b[0margs\u001b[0m\u001b[1;33m,\u001b[0m \u001b[1;33m**\u001b[0m\u001b[0mkwargs\u001b[0m\u001b[1;33m)\u001b[0m\u001b[1;33m\u001b[0m\u001b[1;33m\u001b[0m\u001b[0m\n\u001b[0m\u001b[0;32m     64\u001b[0m \u001b[1;33m\u001b[0m\u001b[0m\n\u001b[0;32m     65\u001b[0m             \u001b[1;31m# extra_args > 0\u001b[0m\u001b[1;33m\u001b[0m\u001b[1;33m\u001b[0m\u001b[1;33m\u001b[0m\u001b[0m\n",
      "\u001b[1;32m~\\Anaconda3\\lib\\site-packages\\sklearn\\model_selection\\_search.py\u001b[0m in \u001b[0;36mfit\u001b[1;34m(self, X, y, groups, **fit_params)\u001b[0m\n\u001b[0;32m    839\u001b[0m                 \u001b[1;32mreturn\u001b[0m \u001b[0mresults\u001b[0m\u001b[1;33m\u001b[0m\u001b[1;33m\u001b[0m\u001b[0m\n\u001b[0;32m    840\u001b[0m \u001b[1;33m\u001b[0m\u001b[0m\n\u001b[1;32m--> 841\u001b[1;33m             \u001b[0mself\u001b[0m\u001b[1;33m.\u001b[0m\u001b[0m_run_search\u001b[0m\u001b[1;33m(\u001b[0m\u001b[0mevaluate_candidates\u001b[0m\u001b[1;33m)\u001b[0m\u001b[1;33m\u001b[0m\u001b[1;33m\u001b[0m\u001b[0m\n\u001b[0m\u001b[0;32m    842\u001b[0m \u001b[1;33m\u001b[0m\u001b[0m\n\u001b[0;32m    843\u001b[0m             \u001b[1;31m# multimetric is determined here because in the case of a callable\u001b[0m\u001b[1;33m\u001b[0m\u001b[1;33m\u001b[0m\u001b[1;33m\u001b[0m\u001b[0m\n",
      "\u001b[1;32m~\\Anaconda3\\lib\\site-packages\\sklearn\\model_selection\\_search.py\u001b[0m in \u001b[0;36m_run_search\u001b[1;34m(self, evaluate_candidates)\u001b[0m\n\u001b[0;32m   1286\u001b[0m     \u001b[1;32mdef\u001b[0m \u001b[0m_run_search\u001b[0m\u001b[1;33m(\u001b[0m\u001b[0mself\u001b[0m\u001b[1;33m,\u001b[0m \u001b[0mevaluate_candidates\u001b[0m\u001b[1;33m)\u001b[0m\u001b[1;33m:\u001b[0m\u001b[1;33m\u001b[0m\u001b[1;33m\u001b[0m\u001b[0m\n\u001b[0;32m   1287\u001b[0m         \u001b[1;34m\"\"\"Search all candidates in param_grid\"\"\"\u001b[0m\u001b[1;33m\u001b[0m\u001b[1;33m\u001b[0m\u001b[0m\n\u001b[1;32m-> 1288\u001b[1;33m         \u001b[0mevaluate_candidates\u001b[0m\u001b[1;33m(\u001b[0m\u001b[0mParameterGrid\u001b[0m\u001b[1;33m(\u001b[0m\u001b[0mself\u001b[0m\u001b[1;33m.\u001b[0m\u001b[0mparam_grid\u001b[0m\u001b[1;33m)\u001b[0m\u001b[1;33m)\u001b[0m\u001b[1;33m\u001b[0m\u001b[1;33m\u001b[0m\u001b[0m\n\u001b[0m\u001b[0;32m   1289\u001b[0m \u001b[1;33m\u001b[0m\u001b[0m\n\u001b[0;32m   1290\u001b[0m \u001b[1;33m\u001b[0m\u001b[0m\n",
      "\u001b[1;32m~\\Anaconda3\\lib\\site-packages\\sklearn\\model_selection\\_search.py\u001b[0m in \u001b[0;36mevaluate_candidates\u001b[1;34m(candidate_params, cv, more_results)\u001b[0m\n\u001b[0;32m    793\u001b[0m                               n_splits, n_candidates, n_candidates * n_splits))\n\u001b[0;32m    794\u001b[0m \u001b[1;33m\u001b[0m\u001b[0m\n\u001b[1;32m--> 795\u001b[1;33m                 out = parallel(delayed(_fit_and_score)(clone(base_estimator),\n\u001b[0m\u001b[0;32m    796\u001b[0m                                                        \u001b[0mX\u001b[0m\u001b[1;33m,\u001b[0m \u001b[0my\u001b[0m\u001b[1;33m,\u001b[0m\u001b[1;33m\u001b[0m\u001b[1;33m\u001b[0m\u001b[0m\n\u001b[0;32m    797\u001b[0m                                                        \u001b[0mtrain\u001b[0m\u001b[1;33m=\u001b[0m\u001b[0mtrain\u001b[0m\u001b[1;33m,\u001b[0m \u001b[0mtest\u001b[0m\u001b[1;33m=\u001b[0m\u001b[0mtest\u001b[0m\u001b[1;33m,\u001b[0m\u001b[1;33m\u001b[0m\u001b[1;33m\u001b[0m\u001b[0m\n",
      "\u001b[1;32m~\\Anaconda3\\lib\\site-packages\\joblib\\parallel.py\u001b[0m in \u001b[0;36m__call__\u001b[1;34m(self, iterable)\u001b[0m\n\u001b[0;32m   1030\u001b[0m                 \u001b[0mself\u001b[0m\u001b[1;33m.\u001b[0m\u001b[0m_iterating\u001b[0m \u001b[1;33m=\u001b[0m \u001b[0mself\u001b[0m\u001b[1;33m.\u001b[0m\u001b[0m_original_iterator\u001b[0m \u001b[1;32mis\u001b[0m \u001b[1;32mnot\u001b[0m \u001b[1;32mNone\u001b[0m\u001b[1;33m\u001b[0m\u001b[1;33m\u001b[0m\u001b[0m\n\u001b[0;32m   1031\u001b[0m \u001b[1;33m\u001b[0m\u001b[0m\n\u001b[1;32m-> 1032\u001b[1;33m             \u001b[1;32mwhile\u001b[0m \u001b[0mself\u001b[0m\u001b[1;33m.\u001b[0m\u001b[0mdispatch_one_batch\u001b[0m\u001b[1;33m(\u001b[0m\u001b[0miterator\u001b[0m\u001b[1;33m)\u001b[0m\u001b[1;33m:\u001b[0m\u001b[1;33m\u001b[0m\u001b[1;33m\u001b[0m\u001b[0m\n\u001b[0m\u001b[0;32m   1033\u001b[0m                 \u001b[1;32mpass\u001b[0m\u001b[1;33m\u001b[0m\u001b[1;33m\u001b[0m\u001b[0m\n\u001b[0;32m   1034\u001b[0m \u001b[1;33m\u001b[0m\u001b[0m\n",
      "\u001b[1;32m~\\Anaconda3\\lib\\site-packages\\joblib\\parallel.py\u001b[0m in \u001b[0;36mdispatch_one_batch\u001b[1;34m(self, iterator)\u001b[0m\n\u001b[0;32m    845\u001b[0m                 \u001b[1;32mreturn\u001b[0m \u001b[1;32mFalse\u001b[0m\u001b[1;33m\u001b[0m\u001b[1;33m\u001b[0m\u001b[0m\n\u001b[0;32m    846\u001b[0m             \u001b[1;32melse\u001b[0m\u001b[1;33m:\u001b[0m\u001b[1;33m\u001b[0m\u001b[1;33m\u001b[0m\u001b[0m\n\u001b[1;32m--> 847\u001b[1;33m                 \u001b[0mself\u001b[0m\u001b[1;33m.\u001b[0m\u001b[0m_dispatch\u001b[0m\u001b[1;33m(\u001b[0m\u001b[0mtasks\u001b[0m\u001b[1;33m)\u001b[0m\u001b[1;33m\u001b[0m\u001b[1;33m\u001b[0m\u001b[0m\n\u001b[0m\u001b[0;32m    848\u001b[0m                 \u001b[1;32mreturn\u001b[0m \u001b[1;32mTrue\u001b[0m\u001b[1;33m\u001b[0m\u001b[1;33m\u001b[0m\u001b[0m\n\u001b[0;32m    849\u001b[0m \u001b[1;33m\u001b[0m\u001b[0m\n",
      "\u001b[1;32m~\\Anaconda3\\lib\\site-packages\\joblib\\parallel.py\u001b[0m in \u001b[0;36m_dispatch\u001b[1;34m(self, batch)\u001b[0m\n\u001b[0;32m    763\u001b[0m         \u001b[1;32mwith\u001b[0m \u001b[0mself\u001b[0m\u001b[1;33m.\u001b[0m\u001b[0m_lock\u001b[0m\u001b[1;33m:\u001b[0m\u001b[1;33m\u001b[0m\u001b[1;33m\u001b[0m\u001b[0m\n\u001b[0;32m    764\u001b[0m             \u001b[0mjob_idx\u001b[0m \u001b[1;33m=\u001b[0m \u001b[0mlen\u001b[0m\u001b[1;33m(\u001b[0m\u001b[0mself\u001b[0m\u001b[1;33m.\u001b[0m\u001b[0m_jobs\u001b[0m\u001b[1;33m)\u001b[0m\u001b[1;33m\u001b[0m\u001b[1;33m\u001b[0m\u001b[0m\n\u001b[1;32m--> 765\u001b[1;33m             \u001b[0mjob\u001b[0m \u001b[1;33m=\u001b[0m \u001b[0mself\u001b[0m\u001b[1;33m.\u001b[0m\u001b[0m_backend\u001b[0m\u001b[1;33m.\u001b[0m\u001b[0mapply_async\u001b[0m\u001b[1;33m(\u001b[0m\u001b[0mbatch\u001b[0m\u001b[1;33m,\u001b[0m \u001b[0mcallback\u001b[0m\u001b[1;33m=\u001b[0m\u001b[0mcb\u001b[0m\u001b[1;33m)\u001b[0m\u001b[1;33m\u001b[0m\u001b[1;33m\u001b[0m\u001b[0m\n\u001b[0m\u001b[0;32m    766\u001b[0m             \u001b[1;31m# A job can complete so quickly than its callback is\u001b[0m\u001b[1;33m\u001b[0m\u001b[1;33m\u001b[0m\u001b[1;33m\u001b[0m\u001b[0m\n\u001b[0;32m    767\u001b[0m             \u001b[1;31m# called before we get here, causing self._jobs to\u001b[0m\u001b[1;33m\u001b[0m\u001b[1;33m\u001b[0m\u001b[1;33m\u001b[0m\u001b[0m\n",
      "\u001b[1;32m~\\Anaconda3\\lib\\site-packages\\joblib\\_parallel_backends.py\u001b[0m in \u001b[0;36mapply_async\u001b[1;34m(self, func, callback)\u001b[0m\n\u001b[0;32m    206\u001b[0m     \u001b[1;32mdef\u001b[0m \u001b[0mapply_async\u001b[0m\u001b[1;33m(\u001b[0m\u001b[0mself\u001b[0m\u001b[1;33m,\u001b[0m \u001b[0mfunc\u001b[0m\u001b[1;33m,\u001b[0m \u001b[0mcallback\u001b[0m\u001b[1;33m=\u001b[0m\u001b[1;32mNone\u001b[0m\u001b[1;33m)\u001b[0m\u001b[1;33m:\u001b[0m\u001b[1;33m\u001b[0m\u001b[1;33m\u001b[0m\u001b[0m\n\u001b[0;32m    207\u001b[0m         \u001b[1;34m\"\"\"Schedule a func to be run\"\"\"\u001b[0m\u001b[1;33m\u001b[0m\u001b[1;33m\u001b[0m\u001b[0m\n\u001b[1;32m--> 208\u001b[1;33m         \u001b[0mresult\u001b[0m \u001b[1;33m=\u001b[0m \u001b[0mImmediateResult\u001b[0m\u001b[1;33m(\u001b[0m\u001b[0mfunc\u001b[0m\u001b[1;33m)\u001b[0m\u001b[1;33m\u001b[0m\u001b[1;33m\u001b[0m\u001b[0m\n\u001b[0m\u001b[0;32m    209\u001b[0m         \u001b[1;32mif\u001b[0m \u001b[0mcallback\u001b[0m\u001b[1;33m:\u001b[0m\u001b[1;33m\u001b[0m\u001b[1;33m\u001b[0m\u001b[0m\n\u001b[0;32m    210\u001b[0m             \u001b[0mcallback\u001b[0m\u001b[1;33m(\u001b[0m\u001b[0mresult\u001b[0m\u001b[1;33m)\u001b[0m\u001b[1;33m\u001b[0m\u001b[1;33m\u001b[0m\u001b[0m\n",
      "\u001b[1;32m~\\Anaconda3\\lib\\site-packages\\joblib\\_parallel_backends.py\u001b[0m in \u001b[0;36m__init__\u001b[1;34m(self, batch)\u001b[0m\n\u001b[0;32m    570\u001b[0m         \u001b[1;31m# Don't delay the application, to avoid keeping the input\u001b[0m\u001b[1;33m\u001b[0m\u001b[1;33m\u001b[0m\u001b[1;33m\u001b[0m\u001b[0m\n\u001b[0;32m    571\u001b[0m         \u001b[1;31m# arguments in memory\u001b[0m\u001b[1;33m\u001b[0m\u001b[1;33m\u001b[0m\u001b[1;33m\u001b[0m\u001b[0m\n\u001b[1;32m--> 572\u001b[1;33m         \u001b[0mself\u001b[0m\u001b[1;33m.\u001b[0m\u001b[0mresults\u001b[0m \u001b[1;33m=\u001b[0m \u001b[0mbatch\u001b[0m\u001b[1;33m(\u001b[0m\u001b[1;33m)\u001b[0m\u001b[1;33m\u001b[0m\u001b[1;33m\u001b[0m\u001b[0m\n\u001b[0m\u001b[0;32m    573\u001b[0m \u001b[1;33m\u001b[0m\u001b[0m\n\u001b[0;32m    574\u001b[0m     \u001b[1;32mdef\u001b[0m \u001b[0mget\u001b[0m\u001b[1;33m(\u001b[0m\u001b[0mself\u001b[0m\u001b[1;33m)\u001b[0m\u001b[1;33m:\u001b[0m\u001b[1;33m\u001b[0m\u001b[1;33m\u001b[0m\u001b[0m\n",
      "\u001b[1;32m~\\Anaconda3\\lib\\site-packages\\joblib\\parallel.py\u001b[0m in \u001b[0;36m__call__\u001b[1;34m(self)\u001b[0m\n\u001b[0;32m    250\u001b[0m         \u001b[1;31m# change the default number of processes to -1\u001b[0m\u001b[1;33m\u001b[0m\u001b[1;33m\u001b[0m\u001b[1;33m\u001b[0m\u001b[0m\n\u001b[0;32m    251\u001b[0m         \u001b[1;32mwith\u001b[0m \u001b[0mparallel_backend\u001b[0m\u001b[1;33m(\u001b[0m\u001b[0mself\u001b[0m\u001b[1;33m.\u001b[0m\u001b[0m_backend\u001b[0m\u001b[1;33m,\u001b[0m \u001b[0mn_jobs\u001b[0m\u001b[1;33m=\u001b[0m\u001b[0mself\u001b[0m\u001b[1;33m.\u001b[0m\u001b[0m_n_jobs\u001b[0m\u001b[1;33m)\u001b[0m\u001b[1;33m:\u001b[0m\u001b[1;33m\u001b[0m\u001b[1;33m\u001b[0m\u001b[0m\n\u001b[1;32m--> 252\u001b[1;33m             return [func(*args, **kwargs)\n\u001b[0m\u001b[0;32m    253\u001b[0m                     for func, args, kwargs in self.items]\n\u001b[0;32m    254\u001b[0m \u001b[1;33m\u001b[0m\u001b[0m\n",
      "\u001b[1;32m~\\Anaconda3\\lib\\site-packages\\joblib\\parallel.py\u001b[0m in \u001b[0;36m<listcomp>\u001b[1;34m(.0)\u001b[0m\n\u001b[0;32m    250\u001b[0m         \u001b[1;31m# change the default number of processes to -1\u001b[0m\u001b[1;33m\u001b[0m\u001b[1;33m\u001b[0m\u001b[1;33m\u001b[0m\u001b[0m\n\u001b[0;32m    251\u001b[0m         \u001b[1;32mwith\u001b[0m \u001b[0mparallel_backend\u001b[0m\u001b[1;33m(\u001b[0m\u001b[0mself\u001b[0m\u001b[1;33m.\u001b[0m\u001b[0m_backend\u001b[0m\u001b[1;33m,\u001b[0m \u001b[0mn_jobs\u001b[0m\u001b[1;33m=\u001b[0m\u001b[0mself\u001b[0m\u001b[1;33m.\u001b[0m\u001b[0m_n_jobs\u001b[0m\u001b[1;33m)\u001b[0m\u001b[1;33m:\u001b[0m\u001b[1;33m\u001b[0m\u001b[1;33m\u001b[0m\u001b[0m\n\u001b[1;32m--> 252\u001b[1;33m             return [func(*args, **kwargs)\n\u001b[0m\u001b[0;32m    253\u001b[0m                     for func, args, kwargs in self.items]\n\u001b[0;32m    254\u001b[0m \u001b[1;33m\u001b[0m\u001b[0m\n",
      "\u001b[1;32m~\\Anaconda3\\lib\\site-packages\\sklearn\\utils\\fixes.py\u001b[0m in \u001b[0;36m__call__\u001b[1;34m(self, *args, **kwargs)\u001b[0m\n\u001b[0;32m    220\u001b[0m     \u001b[1;32mdef\u001b[0m \u001b[0m__call__\u001b[0m\u001b[1;33m(\u001b[0m\u001b[0mself\u001b[0m\u001b[1;33m,\u001b[0m \u001b[1;33m*\u001b[0m\u001b[0margs\u001b[0m\u001b[1;33m,\u001b[0m \u001b[1;33m**\u001b[0m\u001b[0mkwargs\u001b[0m\u001b[1;33m)\u001b[0m\u001b[1;33m:\u001b[0m\u001b[1;33m\u001b[0m\u001b[1;33m\u001b[0m\u001b[0m\n\u001b[0;32m    221\u001b[0m         \u001b[1;32mwith\u001b[0m \u001b[0mconfig_context\u001b[0m\u001b[1;33m(\u001b[0m\u001b[1;33m**\u001b[0m\u001b[0mself\u001b[0m\u001b[1;33m.\u001b[0m\u001b[0mconfig\u001b[0m\u001b[1;33m)\u001b[0m\u001b[1;33m:\u001b[0m\u001b[1;33m\u001b[0m\u001b[1;33m\u001b[0m\u001b[0m\n\u001b[1;32m--> 222\u001b[1;33m             \u001b[1;32mreturn\u001b[0m \u001b[0mself\u001b[0m\u001b[1;33m.\u001b[0m\u001b[0mfunction\u001b[0m\u001b[1;33m(\u001b[0m\u001b[1;33m*\u001b[0m\u001b[0margs\u001b[0m\u001b[1;33m,\u001b[0m \u001b[1;33m**\u001b[0m\u001b[0mkwargs\u001b[0m\u001b[1;33m)\u001b[0m\u001b[1;33m\u001b[0m\u001b[1;33m\u001b[0m\u001b[0m\n\u001b[0m",
      "\u001b[1;32m~\\Anaconda3\\lib\\site-packages\\sklearn\\model_selection\\_validation.py\u001b[0m in \u001b[0;36m_fit_and_score\u001b[1;34m(estimator, X, y, scorer, train, test, verbose, parameters, fit_params, return_train_score, return_parameters, return_n_test_samples, return_times, return_estimator, split_progress, candidate_progress, error_score)\u001b[0m\n\u001b[0;32m    591\u001b[0m             \u001b[0mestimator\u001b[0m\u001b[1;33m.\u001b[0m\u001b[0mfit\u001b[0m\u001b[1;33m(\u001b[0m\u001b[0mX_train\u001b[0m\u001b[1;33m,\u001b[0m \u001b[1;33m**\u001b[0m\u001b[0mfit_params\u001b[0m\u001b[1;33m)\u001b[0m\u001b[1;33m\u001b[0m\u001b[1;33m\u001b[0m\u001b[0m\n\u001b[0;32m    592\u001b[0m         \u001b[1;32melse\u001b[0m\u001b[1;33m:\u001b[0m\u001b[1;33m\u001b[0m\u001b[1;33m\u001b[0m\u001b[0m\n\u001b[1;32m--> 593\u001b[1;33m             \u001b[0mestimator\u001b[0m\u001b[1;33m.\u001b[0m\u001b[0mfit\u001b[0m\u001b[1;33m(\u001b[0m\u001b[0mX_train\u001b[0m\u001b[1;33m,\u001b[0m \u001b[0my_train\u001b[0m\u001b[1;33m,\u001b[0m \u001b[1;33m**\u001b[0m\u001b[0mfit_params\u001b[0m\u001b[1;33m)\u001b[0m\u001b[1;33m\u001b[0m\u001b[1;33m\u001b[0m\u001b[0m\n\u001b[0m\u001b[0;32m    594\u001b[0m \u001b[1;33m\u001b[0m\u001b[0m\n\u001b[0;32m    595\u001b[0m     \u001b[1;32mexcept\u001b[0m \u001b[0mException\u001b[0m \u001b[1;32mas\u001b[0m \u001b[0me\u001b[0m\u001b[1;33m:\u001b[0m\u001b[1;33m\u001b[0m\u001b[1;33m\u001b[0m\u001b[0m\n",
      "\u001b[1;32m~\\Anaconda3\\lib\\site-packages\\sklearn\\ensemble\\_forest.py\u001b[0m in \u001b[0;36mfit\u001b[1;34m(self, X, y, sample_weight)\u001b[0m\n\u001b[0;32m    385\u001b[0m             \u001b[1;31m# parallel_backend contexts set at a higher level,\u001b[0m\u001b[1;33m\u001b[0m\u001b[1;33m\u001b[0m\u001b[1;33m\u001b[0m\u001b[0m\n\u001b[0;32m    386\u001b[0m             \u001b[1;31m# since correctness does not rely on using threads.\u001b[0m\u001b[1;33m\u001b[0m\u001b[1;33m\u001b[0m\u001b[1;33m\u001b[0m\u001b[0m\n\u001b[1;32m--> 387\u001b[1;33m             trees = Parallel(n_jobs=self.n_jobs, verbose=self.verbose,\n\u001b[0m\u001b[0;32m    388\u001b[0m                              \u001b[1;33m**\u001b[0m\u001b[0m_joblib_parallel_args\u001b[0m\u001b[1;33m(\u001b[0m\u001b[0mprefer\u001b[0m\u001b[1;33m=\u001b[0m\u001b[1;34m'threads'\u001b[0m\u001b[1;33m)\u001b[0m\u001b[1;33m)\u001b[0m\u001b[1;33m(\u001b[0m\u001b[1;33m\u001b[0m\u001b[1;33m\u001b[0m\u001b[0m\n\u001b[0;32m    389\u001b[0m                 delayed(_parallel_build_trees)(\n",
      "\u001b[1;32m~\\Anaconda3\\lib\\site-packages\\joblib\\parallel.py\u001b[0m in \u001b[0;36m__call__\u001b[1;34m(self, iterable)\u001b[0m\n\u001b[0;32m   1030\u001b[0m                 \u001b[0mself\u001b[0m\u001b[1;33m.\u001b[0m\u001b[0m_iterating\u001b[0m \u001b[1;33m=\u001b[0m \u001b[0mself\u001b[0m\u001b[1;33m.\u001b[0m\u001b[0m_original_iterator\u001b[0m \u001b[1;32mis\u001b[0m \u001b[1;32mnot\u001b[0m \u001b[1;32mNone\u001b[0m\u001b[1;33m\u001b[0m\u001b[1;33m\u001b[0m\u001b[0m\n\u001b[0;32m   1031\u001b[0m \u001b[1;33m\u001b[0m\u001b[0m\n\u001b[1;32m-> 1032\u001b[1;33m             \u001b[1;32mwhile\u001b[0m \u001b[0mself\u001b[0m\u001b[1;33m.\u001b[0m\u001b[0mdispatch_one_batch\u001b[0m\u001b[1;33m(\u001b[0m\u001b[0miterator\u001b[0m\u001b[1;33m)\u001b[0m\u001b[1;33m:\u001b[0m\u001b[1;33m\u001b[0m\u001b[1;33m\u001b[0m\u001b[0m\n\u001b[0m\u001b[0;32m   1033\u001b[0m                 \u001b[1;32mpass\u001b[0m\u001b[1;33m\u001b[0m\u001b[1;33m\u001b[0m\u001b[0m\n\u001b[0;32m   1034\u001b[0m \u001b[1;33m\u001b[0m\u001b[0m\n",
      "\u001b[1;32m~\\Anaconda3\\lib\\site-packages\\joblib\\parallel.py\u001b[0m in \u001b[0;36mdispatch_one_batch\u001b[1;34m(self, iterator)\u001b[0m\n\u001b[0;32m    845\u001b[0m                 \u001b[1;32mreturn\u001b[0m \u001b[1;32mFalse\u001b[0m\u001b[1;33m\u001b[0m\u001b[1;33m\u001b[0m\u001b[0m\n\u001b[0;32m    846\u001b[0m             \u001b[1;32melse\u001b[0m\u001b[1;33m:\u001b[0m\u001b[1;33m\u001b[0m\u001b[1;33m\u001b[0m\u001b[0m\n\u001b[1;32m--> 847\u001b[1;33m                 \u001b[0mself\u001b[0m\u001b[1;33m.\u001b[0m\u001b[0m_dispatch\u001b[0m\u001b[1;33m(\u001b[0m\u001b[0mtasks\u001b[0m\u001b[1;33m)\u001b[0m\u001b[1;33m\u001b[0m\u001b[1;33m\u001b[0m\u001b[0m\n\u001b[0m\u001b[0;32m    848\u001b[0m                 \u001b[1;32mreturn\u001b[0m \u001b[1;32mTrue\u001b[0m\u001b[1;33m\u001b[0m\u001b[1;33m\u001b[0m\u001b[0m\n\u001b[0;32m    849\u001b[0m \u001b[1;33m\u001b[0m\u001b[0m\n",
      "\u001b[1;32m~\\Anaconda3\\lib\\site-packages\\joblib\\parallel.py\u001b[0m in \u001b[0;36m_dispatch\u001b[1;34m(self, batch)\u001b[0m\n\u001b[0;32m    763\u001b[0m         \u001b[1;32mwith\u001b[0m \u001b[0mself\u001b[0m\u001b[1;33m.\u001b[0m\u001b[0m_lock\u001b[0m\u001b[1;33m:\u001b[0m\u001b[1;33m\u001b[0m\u001b[1;33m\u001b[0m\u001b[0m\n\u001b[0;32m    764\u001b[0m             \u001b[0mjob_idx\u001b[0m \u001b[1;33m=\u001b[0m \u001b[0mlen\u001b[0m\u001b[1;33m(\u001b[0m\u001b[0mself\u001b[0m\u001b[1;33m.\u001b[0m\u001b[0m_jobs\u001b[0m\u001b[1;33m)\u001b[0m\u001b[1;33m\u001b[0m\u001b[1;33m\u001b[0m\u001b[0m\n\u001b[1;32m--> 765\u001b[1;33m             \u001b[0mjob\u001b[0m \u001b[1;33m=\u001b[0m \u001b[0mself\u001b[0m\u001b[1;33m.\u001b[0m\u001b[0m_backend\u001b[0m\u001b[1;33m.\u001b[0m\u001b[0mapply_async\u001b[0m\u001b[1;33m(\u001b[0m\u001b[0mbatch\u001b[0m\u001b[1;33m,\u001b[0m \u001b[0mcallback\u001b[0m\u001b[1;33m=\u001b[0m\u001b[0mcb\u001b[0m\u001b[1;33m)\u001b[0m\u001b[1;33m\u001b[0m\u001b[1;33m\u001b[0m\u001b[0m\n\u001b[0m\u001b[0;32m    766\u001b[0m             \u001b[1;31m# A job can complete so quickly than its callback is\u001b[0m\u001b[1;33m\u001b[0m\u001b[1;33m\u001b[0m\u001b[1;33m\u001b[0m\u001b[0m\n\u001b[0;32m    767\u001b[0m             \u001b[1;31m# called before we get here, causing self._jobs to\u001b[0m\u001b[1;33m\u001b[0m\u001b[1;33m\u001b[0m\u001b[1;33m\u001b[0m\u001b[0m\n",
      "\u001b[1;32m~\\Anaconda3\\lib\\site-packages\\joblib\\_parallel_backends.py\u001b[0m in \u001b[0;36mapply_async\u001b[1;34m(self, func, callback)\u001b[0m\n\u001b[0;32m    206\u001b[0m     \u001b[1;32mdef\u001b[0m \u001b[0mapply_async\u001b[0m\u001b[1;33m(\u001b[0m\u001b[0mself\u001b[0m\u001b[1;33m,\u001b[0m \u001b[0mfunc\u001b[0m\u001b[1;33m,\u001b[0m \u001b[0mcallback\u001b[0m\u001b[1;33m=\u001b[0m\u001b[1;32mNone\u001b[0m\u001b[1;33m)\u001b[0m\u001b[1;33m:\u001b[0m\u001b[1;33m\u001b[0m\u001b[1;33m\u001b[0m\u001b[0m\n\u001b[0;32m    207\u001b[0m         \u001b[1;34m\"\"\"Schedule a func to be run\"\"\"\u001b[0m\u001b[1;33m\u001b[0m\u001b[1;33m\u001b[0m\u001b[0m\n\u001b[1;32m--> 208\u001b[1;33m         \u001b[0mresult\u001b[0m \u001b[1;33m=\u001b[0m \u001b[0mImmediateResult\u001b[0m\u001b[1;33m(\u001b[0m\u001b[0mfunc\u001b[0m\u001b[1;33m)\u001b[0m\u001b[1;33m\u001b[0m\u001b[1;33m\u001b[0m\u001b[0m\n\u001b[0m\u001b[0;32m    209\u001b[0m         \u001b[1;32mif\u001b[0m \u001b[0mcallback\u001b[0m\u001b[1;33m:\u001b[0m\u001b[1;33m\u001b[0m\u001b[1;33m\u001b[0m\u001b[0m\n\u001b[0;32m    210\u001b[0m             \u001b[0mcallback\u001b[0m\u001b[1;33m(\u001b[0m\u001b[0mresult\u001b[0m\u001b[1;33m)\u001b[0m\u001b[1;33m\u001b[0m\u001b[1;33m\u001b[0m\u001b[0m\n",
      "\u001b[1;32m~\\Anaconda3\\lib\\site-packages\\joblib\\_parallel_backends.py\u001b[0m in \u001b[0;36m__init__\u001b[1;34m(self, batch)\u001b[0m\n\u001b[0;32m    570\u001b[0m         \u001b[1;31m# Don't delay the application, to avoid keeping the input\u001b[0m\u001b[1;33m\u001b[0m\u001b[1;33m\u001b[0m\u001b[1;33m\u001b[0m\u001b[0m\n\u001b[0;32m    571\u001b[0m         \u001b[1;31m# arguments in memory\u001b[0m\u001b[1;33m\u001b[0m\u001b[1;33m\u001b[0m\u001b[1;33m\u001b[0m\u001b[0m\n\u001b[1;32m--> 572\u001b[1;33m         \u001b[0mself\u001b[0m\u001b[1;33m.\u001b[0m\u001b[0mresults\u001b[0m \u001b[1;33m=\u001b[0m \u001b[0mbatch\u001b[0m\u001b[1;33m(\u001b[0m\u001b[1;33m)\u001b[0m\u001b[1;33m\u001b[0m\u001b[1;33m\u001b[0m\u001b[0m\n\u001b[0m\u001b[0;32m    573\u001b[0m \u001b[1;33m\u001b[0m\u001b[0m\n\u001b[0;32m    574\u001b[0m     \u001b[1;32mdef\u001b[0m \u001b[0mget\u001b[0m\u001b[1;33m(\u001b[0m\u001b[0mself\u001b[0m\u001b[1;33m)\u001b[0m\u001b[1;33m:\u001b[0m\u001b[1;33m\u001b[0m\u001b[1;33m\u001b[0m\u001b[0m\n",
      "\u001b[1;32m~\\Anaconda3\\lib\\site-packages\\joblib\\parallel.py\u001b[0m in \u001b[0;36m__call__\u001b[1;34m(self)\u001b[0m\n\u001b[0;32m    250\u001b[0m         \u001b[1;31m# change the default number of processes to -1\u001b[0m\u001b[1;33m\u001b[0m\u001b[1;33m\u001b[0m\u001b[1;33m\u001b[0m\u001b[0m\n\u001b[0;32m    251\u001b[0m         \u001b[1;32mwith\u001b[0m \u001b[0mparallel_backend\u001b[0m\u001b[1;33m(\u001b[0m\u001b[0mself\u001b[0m\u001b[1;33m.\u001b[0m\u001b[0m_backend\u001b[0m\u001b[1;33m,\u001b[0m \u001b[0mn_jobs\u001b[0m\u001b[1;33m=\u001b[0m\u001b[0mself\u001b[0m\u001b[1;33m.\u001b[0m\u001b[0m_n_jobs\u001b[0m\u001b[1;33m)\u001b[0m\u001b[1;33m:\u001b[0m\u001b[1;33m\u001b[0m\u001b[1;33m\u001b[0m\u001b[0m\n\u001b[1;32m--> 252\u001b[1;33m             return [func(*args, **kwargs)\n\u001b[0m\u001b[0;32m    253\u001b[0m                     for func, args, kwargs in self.items]\n\u001b[0;32m    254\u001b[0m \u001b[1;33m\u001b[0m\u001b[0m\n",
      "\u001b[1;32m~\\Anaconda3\\lib\\site-packages\\joblib\\parallel.py\u001b[0m in \u001b[0;36m<listcomp>\u001b[1;34m(.0)\u001b[0m\n\u001b[0;32m    250\u001b[0m         \u001b[1;31m# change the default number of processes to -1\u001b[0m\u001b[1;33m\u001b[0m\u001b[1;33m\u001b[0m\u001b[1;33m\u001b[0m\u001b[0m\n\u001b[0;32m    251\u001b[0m         \u001b[1;32mwith\u001b[0m \u001b[0mparallel_backend\u001b[0m\u001b[1;33m(\u001b[0m\u001b[0mself\u001b[0m\u001b[1;33m.\u001b[0m\u001b[0m_backend\u001b[0m\u001b[1;33m,\u001b[0m \u001b[0mn_jobs\u001b[0m\u001b[1;33m=\u001b[0m\u001b[0mself\u001b[0m\u001b[1;33m.\u001b[0m\u001b[0m_n_jobs\u001b[0m\u001b[1;33m)\u001b[0m\u001b[1;33m:\u001b[0m\u001b[1;33m\u001b[0m\u001b[1;33m\u001b[0m\u001b[0m\n\u001b[1;32m--> 252\u001b[1;33m             return [func(*args, **kwargs)\n\u001b[0m\u001b[0;32m    253\u001b[0m                     for func, args, kwargs in self.items]\n\u001b[0;32m    254\u001b[0m \u001b[1;33m\u001b[0m\u001b[0m\n",
      "\u001b[1;32m~\\Anaconda3\\lib\\site-packages\\sklearn\\utils\\fixes.py\u001b[0m in \u001b[0;36m__call__\u001b[1;34m(self, *args, **kwargs)\u001b[0m\n\u001b[0;32m    220\u001b[0m     \u001b[1;32mdef\u001b[0m \u001b[0m__call__\u001b[0m\u001b[1;33m(\u001b[0m\u001b[0mself\u001b[0m\u001b[1;33m,\u001b[0m \u001b[1;33m*\u001b[0m\u001b[0margs\u001b[0m\u001b[1;33m,\u001b[0m \u001b[1;33m**\u001b[0m\u001b[0mkwargs\u001b[0m\u001b[1;33m)\u001b[0m\u001b[1;33m:\u001b[0m\u001b[1;33m\u001b[0m\u001b[1;33m\u001b[0m\u001b[0m\n\u001b[0;32m    221\u001b[0m         \u001b[1;32mwith\u001b[0m \u001b[0mconfig_context\u001b[0m\u001b[1;33m(\u001b[0m\u001b[1;33m**\u001b[0m\u001b[0mself\u001b[0m\u001b[1;33m.\u001b[0m\u001b[0mconfig\u001b[0m\u001b[1;33m)\u001b[0m\u001b[1;33m:\u001b[0m\u001b[1;33m\u001b[0m\u001b[1;33m\u001b[0m\u001b[0m\n\u001b[1;32m--> 222\u001b[1;33m             \u001b[1;32mreturn\u001b[0m \u001b[0mself\u001b[0m\u001b[1;33m.\u001b[0m\u001b[0mfunction\u001b[0m\u001b[1;33m(\u001b[0m\u001b[1;33m*\u001b[0m\u001b[0margs\u001b[0m\u001b[1;33m,\u001b[0m \u001b[1;33m**\u001b[0m\u001b[0mkwargs\u001b[0m\u001b[1;33m)\u001b[0m\u001b[1;33m\u001b[0m\u001b[1;33m\u001b[0m\u001b[0m\n\u001b[0m",
      "\u001b[1;32m~\\Anaconda3\\lib\\site-packages\\sklearn\\ensemble\\_forest.py\u001b[0m in \u001b[0;36m_parallel_build_trees\u001b[1;34m(tree, forest, X, y, sample_weight, tree_idx, n_trees, verbose, class_weight, n_samples_bootstrap)\u001b[0m\n\u001b[0;32m    167\u001b[0m                                                         indices=indices)\n\u001b[0;32m    168\u001b[0m \u001b[1;33m\u001b[0m\u001b[0m\n\u001b[1;32m--> 169\u001b[1;33m         \u001b[0mtree\u001b[0m\u001b[1;33m.\u001b[0m\u001b[0mfit\u001b[0m\u001b[1;33m(\u001b[0m\u001b[0mX\u001b[0m\u001b[1;33m,\u001b[0m \u001b[0my\u001b[0m\u001b[1;33m,\u001b[0m \u001b[0msample_weight\u001b[0m\u001b[1;33m=\u001b[0m\u001b[0mcurr_sample_weight\u001b[0m\u001b[1;33m,\u001b[0m \u001b[0mcheck_input\u001b[0m\u001b[1;33m=\u001b[0m\u001b[1;32mFalse\u001b[0m\u001b[1;33m)\u001b[0m\u001b[1;33m\u001b[0m\u001b[1;33m\u001b[0m\u001b[0m\n\u001b[0m\u001b[0;32m    170\u001b[0m     \u001b[1;32melse\u001b[0m\u001b[1;33m:\u001b[0m\u001b[1;33m\u001b[0m\u001b[1;33m\u001b[0m\u001b[0m\n\u001b[0;32m    171\u001b[0m         \u001b[0mtree\u001b[0m\u001b[1;33m.\u001b[0m\u001b[0mfit\u001b[0m\u001b[1;33m(\u001b[0m\u001b[0mX\u001b[0m\u001b[1;33m,\u001b[0m \u001b[0my\u001b[0m\u001b[1;33m,\u001b[0m \u001b[0msample_weight\u001b[0m\u001b[1;33m=\u001b[0m\u001b[0msample_weight\u001b[0m\u001b[1;33m,\u001b[0m \u001b[0mcheck_input\u001b[0m\u001b[1;33m=\u001b[0m\u001b[1;32mFalse\u001b[0m\u001b[1;33m)\u001b[0m\u001b[1;33m\u001b[0m\u001b[1;33m\u001b[0m\u001b[0m\n",
      "\u001b[1;32m~\\Anaconda3\\lib\\site-packages\\sklearn\\tree\\_classes.py\u001b[0m in \u001b[0;36mfit\u001b[1;34m(self, X, y, sample_weight, check_input, X_idx_sorted)\u001b[0m\n\u001b[0;32m    896\u001b[0m         \"\"\"\n\u001b[0;32m    897\u001b[0m \u001b[1;33m\u001b[0m\u001b[0m\n\u001b[1;32m--> 898\u001b[1;33m         super().fit(\n\u001b[0m\u001b[0;32m    899\u001b[0m             \u001b[0mX\u001b[0m\u001b[1;33m,\u001b[0m \u001b[0my\u001b[0m\u001b[1;33m,\u001b[0m\u001b[1;33m\u001b[0m\u001b[1;33m\u001b[0m\u001b[0m\n\u001b[0;32m    900\u001b[0m             \u001b[0msample_weight\u001b[0m\u001b[1;33m=\u001b[0m\u001b[0msample_weight\u001b[0m\u001b[1;33m,\u001b[0m\u001b[1;33m\u001b[0m\u001b[1;33m\u001b[0m\u001b[0m\n",
      "\u001b[1;32m~\\Anaconda3\\lib\\site-packages\\sklearn\\tree\\_classes.py\u001b[0m in \u001b[0;36mfit\u001b[1;34m(self, X, y, sample_weight, check_input, X_idx_sorted)\u001b[0m\n\u001b[0;32m    188\u001b[0m \u001b[1;33m\u001b[0m\u001b[0m\n\u001b[0;32m    189\u001b[0m         \u001b[1;32mif\u001b[0m \u001b[0mis_classification\u001b[0m\u001b[1;33m:\u001b[0m\u001b[1;33m\u001b[0m\u001b[1;33m\u001b[0m\u001b[0m\n\u001b[1;32m--> 190\u001b[1;33m             \u001b[0mcheck_classification_targets\u001b[0m\u001b[1;33m(\u001b[0m\u001b[0my\u001b[0m\u001b[1;33m)\u001b[0m\u001b[1;33m\u001b[0m\u001b[1;33m\u001b[0m\u001b[0m\n\u001b[0m\u001b[0;32m    191\u001b[0m             \u001b[0my\u001b[0m \u001b[1;33m=\u001b[0m \u001b[0mnp\u001b[0m\u001b[1;33m.\u001b[0m\u001b[0mcopy\u001b[0m\u001b[1;33m(\u001b[0m\u001b[0my\u001b[0m\u001b[1;33m)\u001b[0m\u001b[1;33m\u001b[0m\u001b[1;33m\u001b[0m\u001b[0m\n\u001b[0;32m    192\u001b[0m \u001b[1;33m\u001b[0m\u001b[0m\n",
      "\u001b[1;32m~\\Anaconda3\\lib\\site-packages\\sklearn\\utils\\multiclass.py\u001b[0m in \u001b[0;36mcheck_classification_targets\u001b[1;34m(y)\u001b[0m\n\u001b[0;32m    178\u001b[0m     \u001b[0my\u001b[0m \u001b[1;33m:\u001b[0m \u001b[0marray\u001b[0m\u001b[1;33m-\u001b[0m\u001b[0mlike\u001b[0m\u001b[1;33m\u001b[0m\u001b[1;33m\u001b[0m\u001b[0m\n\u001b[0;32m    179\u001b[0m     \"\"\"\n\u001b[1;32m--> 180\u001b[1;33m     \u001b[0my_type\u001b[0m \u001b[1;33m=\u001b[0m \u001b[0mtype_of_target\u001b[0m\u001b[1;33m(\u001b[0m\u001b[0my\u001b[0m\u001b[1;33m)\u001b[0m\u001b[1;33m\u001b[0m\u001b[1;33m\u001b[0m\u001b[0m\n\u001b[0m\u001b[0;32m    181\u001b[0m     if y_type not in ['binary', 'multiclass', 'multiclass-multioutput',\n\u001b[0;32m    182\u001b[0m                       'multilabel-indicator', 'multilabel-sequences']:\n",
      "\u001b[1;32m~\\Anaconda3\\lib\\site-packages\\sklearn\\utils\\multiclass.py\u001b[0m in \u001b[0;36mtype_of_target\u001b[1;34m(y)\u001b[0m\n\u001b[0;32m    304\u001b[0m         \u001b[1;32mreturn\u001b[0m \u001b[1;34m'continuous'\u001b[0m \u001b[1;33m+\u001b[0m \u001b[0msuffix\u001b[0m\u001b[1;33m\u001b[0m\u001b[1;33m\u001b[0m\u001b[0m\n\u001b[0;32m    305\u001b[0m \u001b[1;33m\u001b[0m\u001b[0m\n\u001b[1;32m--> 306\u001b[1;33m     \u001b[1;32mif\u001b[0m \u001b[1;33m(\u001b[0m\u001b[0mlen\u001b[0m\u001b[1;33m(\u001b[0m\u001b[0mnp\u001b[0m\u001b[1;33m.\u001b[0m\u001b[0munique\u001b[0m\u001b[1;33m(\u001b[0m\u001b[0my\u001b[0m\u001b[1;33m)\u001b[0m\u001b[1;33m)\u001b[0m \u001b[1;33m>\u001b[0m \u001b[1;36m2\u001b[0m\u001b[1;33m)\u001b[0m \u001b[1;32mor\u001b[0m \u001b[1;33m(\u001b[0m\u001b[0my\u001b[0m\u001b[1;33m.\u001b[0m\u001b[0mndim\u001b[0m \u001b[1;33m>=\u001b[0m \u001b[1;36m2\u001b[0m \u001b[1;32mand\u001b[0m \u001b[0mlen\u001b[0m\u001b[1;33m(\u001b[0m\u001b[0my\u001b[0m\u001b[1;33m[\u001b[0m\u001b[1;36m0\u001b[0m\u001b[1;33m]\u001b[0m\u001b[1;33m)\u001b[0m \u001b[1;33m>\u001b[0m \u001b[1;36m1\u001b[0m\u001b[1;33m)\u001b[0m\u001b[1;33m:\u001b[0m\u001b[1;33m\u001b[0m\u001b[1;33m\u001b[0m\u001b[0m\n\u001b[0m\u001b[0;32m    307\u001b[0m         \u001b[1;32mreturn\u001b[0m \u001b[1;34m'multiclass'\u001b[0m \u001b[1;33m+\u001b[0m \u001b[0msuffix\u001b[0m  \u001b[1;31m# [1, 2, 3] or [[1., 2., 3]] or [[1, 2]]\u001b[0m\u001b[1;33m\u001b[0m\u001b[1;33m\u001b[0m\u001b[0m\n\u001b[0;32m    308\u001b[0m     \u001b[1;32melse\u001b[0m\u001b[1;33m:\u001b[0m\u001b[1;33m\u001b[0m\u001b[1;33m\u001b[0m\u001b[0m\n",
      "\u001b[1;32m<__array_function__ internals>\u001b[0m in \u001b[0;36munique\u001b[1;34m(*args, **kwargs)\u001b[0m\n",
      "\u001b[1;32m~\\Anaconda3\\lib\\site-packages\\numpy\\lib\\arraysetops.py\u001b[0m in \u001b[0;36munique\u001b[1;34m(ar, return_index, return_inverse, return_counts, axis)\u001b[0m\n\u001b[0;32m    259\u001b[0m     \u001b[0mar\u001b[0m \u001b[1;33m=\u001b[0m \u001b[0mnp\u001b[0m\u001b[1;33m.\u001b[0m\u001b[0masanyarray\u001b[0m\u001b[1;33m(\u001b[0m\u001b[0mar\u001b[0m\u001b[1;33m)\u001b[0m\u001b[1;33m\u001b[0m\u001b[1;33m\u001b[0m\u001b[0m\n\u001b[0;32m    260\u001b[0m     \u001b[1;32mif\u001b[0m \u001b[0maxis\u001b[0m \u001b[1;32mis\u001b[0m \u001b[1;32mNone\u001b[0m\u001b[1;33m:\u001b[0m\u001b[1;33m\u001b[0m\u001b[1;33m\u001b[0m\u001b[0m\n\u001b[1;32m--> 261\u001b[1;33m         \u001b[0mret\u001b[0m \u001b[1;33m=\u001b[0m \u001b[0m_unique1d\u001b[0m\u001b[1;33m(\u001b[0m\u001b[0mar\u001b[0m\u001b[1;33m,\u001b[0m \u001b[0mreturn_index\u001b[0m\u001b[1;33m,\u001b[0m \u001b[0mreturn_inverse\u001b[0m\u001b[1;33m,\u001b[0m \u001b[0mreturn_counts\u001b[0m\u001b[1;33m)\u001b[0m\u001b[1;33m\u001b[0m\u001b[1;33m\u001b[0m\u001b[0m\n\u001b[0m\u001b[0;32m    262\u001b[0m         \u001b[1;32mreturn\u001b[0m \u001b[0m_unpack_tuple\u001b[0m\u001b[1;33m(\u001b[0m\u001b[0mret\u001b[0m\u001b[1;33m)\u001b[0m\u001b[1;33m\u001b[0m\u001b[1;33m\u001b[0m\u001b[0m\n\u001b[0;32m    263\u001b[0m \u001b[1;33m\u001b[0m\u001b[0m\n",
      "\u001b[1;32m~\\Anaconda3\\lib\\site-packages\\numpy\\lib\\arraysetops.py\u001b[0m in \u001b[0;36m_unique1d\u001b[1;34m(ar, return_index, return_inverse, return_counts)\u001b[0m\n\u001b[0;32m    320\u001b[0m         \u001b[0maux\u001b[0m \u001b[1;33m=\u001b[0m \u001b[0mar\u001b[0m\u001b[1;33m[\u001b[0m\u001b[0mperm\u001b[0m\u001b[1;33m]\u001b[0m\u001b[1;33m\u001b[0m\u001b[1;33m\u001b[0m\u001b[0m\n\u001b[0;32m    321\u001b[0m     \u001b[1;32melse\u001b[0m\u001b[1;33m:\u001b[0m\u001b[1;33m\u001b[0m\u001b[1;33m\u001b[0m\u001b[0m\n\u001b[1;32m--> 322\u001b[1;33m         \u001b[0mar\u001b[0m\u001b[1;33m.\u001b[0m\u001b[0msort\u001b[0m\u001b[1;33m(\u001b[0m\u001b[1;33m)\u001b[0m\u001b[1;33m\u001b[0m\u001b[1;33m\u001b[0m\u001b[0m\n\u001b[0m\u001b[0;32m    323\u001b[0m         \u001b[0maux\u001b[0m \u001b[1;33m=\u001b[0m \u001b[0mar\u001b[0m\u001b[1;33m\u001b[0m\u001b[1;33m\u001b[0m\u001b[0m\n\u001b[0;32m    324\u001b[0m     \u001b[0mmask\u001b[0m \u001b[1;33m=\u001b[0m \u001b[0mnp\u001b[0m\u001b[1;33m.\u001b[0m\u001b[0mempty\u001b[0m\u001b[1;33m(\u001b[0m\u001b[0maux\u001b[0m\u001b[1;33m.\u001b[0m\u001b[0mshape\u001b[0m\u001b[1;33m,\u001b[0m \u001b[0mdtype\u001b[0m\u001b[1;33m=\u001b[0m\u001b[0mnp\u001b[0m\u001b[1;33m.\u001b[0m\u001b[0mbool_\u001b[0m\u001b[1;33m)\u001b[0m\u001b[1;33m\u001b[0m\u001b[1;33m\u001b[0m\u001b[0m\n",
      "\u001b[1;31mKeyboardInterrupt\u001b[0m: "
     ]
    }
   ],
   "source": [
    "grid = GridSearchCV(rf,\n",
    "                    param_grid={'max_depth'   : [3, 5, 7, None],\n",
    "                                'n_estimators': [100, 300, 700],\n",
    "                                'criterion'   : [\"gini\", \"entropy\"],\n",
    "                                'max_features': [3,5,7,10],\n",
    "                                'max_samples' : [0.40, 0.6, 1]\n",
    "                               },\n",
    "                    cv=kfold,\n",
    "                    scoring=scoring,\n",
    "                    refit=True)\n",
    "grid.fit(data, y)\n",
    "grid.best_params_"
   ]
  },
  {
   "cell_type": "code",
   "execution_count": null,
   "metadata": {
    "scrolled": true
   },
   "outputs": [],
   "source": [
    "rf_best_acc = grid.best_score_\n",
    "rf_best_acc"
   ]
  },
  {
   "cell_type": "code",
   "execution_count": null,
   "metadata": {},
   "outputs": [],
   "source": [
    "rf_best = grid.best_estimator_"
   ]
  },
  {
   "cell_type": "markdown",
   "metadata": {},
   "source": [
    "## 7. Random Forest Importance "
   ]
  },
  {
   "cell_type": "markdown",
   "metadata": {},
   "source": [
    "Determination of significance in a classic way resulting from the model of random forests"
   ]
  },
  {
   "cell_type": "code",
   "execution_count": null,
   "metadata": {},
   "outputs": [],
   "source": [
    "rf_best.fit(data, y)"
   ]
  },
  {
   "cell_type": "code",
   "execution_count": null,
   "metadata": {},
   "outputs": [],
   "source": [
    "importance = rf_best.feature_importances_"
   ]
  },
  {
   "cell_type": "code",
   "execution_count": null,
   "metadata": {},
   "outputs": [],
   "source": [
    "plt.figure(figsize=(10,5))\n",
    "plt.bar(data.columns, height =  importance)\n",
    "plt.xticks(rotation=90)\n",
    "plt.show()"
   ]
  },
  {
   "cell_type": "code",
   "execution_count": null,
   "metadata": {},
   "outputs": [],
   "source": [
    "rf_importance =pd.Series(data=importance, index=data.columns)\n",
    "\n",
    "rf_importance_ranking = (rf_importance*(-1)).rank()\n",
    "rf_importance_ranking"
   ]
  },
  {
   "cell_type": "markdown",
   "metadata": {},
   "source": [
    "In this case, there are fewer distinguishing variables.\n",
    "The most significant variables coincide with those indicated by the method based on IV. "
   ]
  },
  {
   "cell_type": "markdown",
   "metadata": {},
   "source": [
    "## 8. Boruta Algorithm"
   ]
  },
  {
   "cell_type": "code",
   "execution_count": null,
   "metadata": {},
   "outputs": [],
   "source": [
    "from boruta import BorutaPy"
   ]
  },
  {
   "cell_type": "code",
   "execution_count": null,
   "metadata": {},
   "outputs": [],
   "source": [
    "\n",
    "feat_selector = BorutaPy(rf_best,verbose=2, random_state=1234)"
   ]
  },
  {
   "cell_type": "code",
   "execution_count": null,
   "metadata": {
    "scrolled": true
   },
   "outputs": [],
   "source": [
    "feat_selector.fit(data.values, y.values)"
   ]
  },
  {
   "cell_type": "code",
   "execution_count": null,
   "metadata": {},
   "outputs": [],
   "source": [
    "Boruta_ranking = pd.Series(feat_selector.ranking_, index = data.columns)\n",
    "Boruta_ranking"
   ]
  },
  {
   "cell_type": "markdown",
   "metadata": {},
   "source": [
    "Also in this case, we see an overall low value of the significance of the variables. This algorithm selected the least variables, while the ordering showed similar properties that we observed earlier\n",
    "\n",
    "The algorithm distinguishes only two variables as possibly significant (note that in this case it does not confirm their significance yet)"
   ]
  },
  {
   "cell_type": "markdown",
   "metadata": {},
   "source": [
    "### Porównanie rankingów model"
   ]
  },
  {
   "cell_type": "code",
   "execution_count": null,
   "metadata": {},
   "outputs": [],
   "source": [
    "Ranking = pd.DataFrame(IV_ranking, columns = [\"IV\"]).join(\n",
    "    pd.DataFrame(rf_importance_ranking, columns = [\"Random Forest\"])).join(\n",
    "    pd.DataFrame(Boruta_ranking, columns = [\"Boruta\"]))\n",
    "Ranking"
   ]
  },
  {
   "cell_type": "markdown",
   "metadata": {},
   "source": [
    "There are similarities in the results of all the methods, the most important variables seem to be from the group \n",
    "\n",
    "    1._donor_age_\n",
    "    2._recipient_age_\n",
    "    3._recipient_body_mass_\n",
    "    4._CD34_x1e6_per_kg_\n",
    "    5._CD3_x1e8_per_kg_"
   ]
  },
  {
   "cell_type": "markdown",
   "metadata": {},
   "source": [
    "As we noted earlier, most of them are highly correlated with each other. And maybe only one of them is important"
   ]
  },
  {
   "cell_type": "markdown",
   "metadata": {},
   "source": [
    "## 9. Comparing methods"
   ]
  },
  {
   "cell_type": "markdown",
   "metadata": {},
   "source": [
    "One of the aspects of the method of selecting variables for the model is signal strength, so we will use models with a different number of variables to compare the methods.\n",
    "\n",
    "At the same time, to test the model's ability to rank variables for importance, the values of less significant variables are also important. Therefore, for each of the methods we will use a similar and wider number of variables designated for modeling."
   ]
  },
  {
   "cell_type": "markdown",
   "metadata": {},
   "source": [
    "The following Random Forest models were used to test these properties:"
   ]
  },
  {
   "cell_type": "markdown",
   "metadata": {},
   "source": [
    "**IV_10**\n",
    "\n",
    "It contains the 10 best variables selected by the method related to IV"
   ]
  },
  {
   "cell_type": "markdown",
   "metadata": {},
   "source": [
    "**RF_6**\n",
    "\n",
    "It contains the 6 best variables selected by the method related to Rando Forest\n",
    "   "
   ]
  },
  {
   "cell_type": "markdown",
   "metadata": {},
   "source": [
    "**Boruta_3** \n",
    "\n",
    "It contains the 3 best variables selected by the method related to Boruta\n",
    "   "
   ]
  },
  {
   "cell_type": "markdown",
   "metadata": {},
   "source": [
    "**RF_10** \n",
    "\n",
    "It contains the 10 best variables selected by the method related to Rando Forest\n",
    "   "
   ]
  },
  {
   "cell_type": "markdown",
   "metadata": {},
   "source": [
    "**Boruta_10** \n",
    "\n",
    "It contains the 10 best variables selected by the method related to Boruta"
   ]
  },
  {
   "cell_type": "markdown",
   "metadata": {},
   "source": [
    "Each of these models was treated separately to find their optimal performance, and in particular, for each model, the hierarchy grid was searched."
   ]
  },
  {
   "cell_type": "markdown",
   "metadata": {},
   "source": [
    "### Building models for comparison"
   ]
  },
  {
   "cell_type": "code",
   "execution_count": null,
   "metadata": {},
   "outputs": [],
   "source": [
    "seed=123\n",
    "kfold = KFold(n_splits=10, random_state=seed, shuffle=True)\n",
    "scoring = 'accuracy'\n",
    "\n",
    "rf = RandomForestClassifier()\n",
    "\n",
    "grid = GridSearchCV(rf,\n",
    "                    param_grid={'max_depth'   : [3, 5, 7, None],\n",
    "                                'n_estimators': [100, 300, 700],\n",
    "                                'criterion'   : [\"gini\", \"entropy\"],\n",
    "                                'max_features': [3,5,7,10],\n",
    "                                'max_samples' : [0.40, 0.6, 1]\n",
    "                               },\n",
    "                    cv=kfold,\n",
    "                    scoring=scoring,\n",
    "                    refit=True)"
   ]
  },
  {
   "cell_type": "markdown",
   "metadata": {},
   "source": [
    "**IV_10**\n",
    "\n",
    "Variables used for modeling"
   ]
  },
  {
   "cell_type": "code",
   "execution_count": null,
   "metadata": {},
   "outputs": [],
   "source": [
    "Var = Ranking[\"IV\"][Ranking[\"IV\"]<11].index\n",
    "for i in Var:\n",
    "    print(i)"
   ]
  },
  {
   "cell_type": "code",
   "execution_count": null,
   "metadata": {},
   "outputs": [],
   "source": [
    "grid.fit(data[Var], y)\n",
    "print(grid.best_params_)\n",
    "\n",
    "IV_10_acc = grid.best_score_\n",
    "\n",
    "IV_10 = grid.best_estimator_\n",
    "\n",
    "print(IV_10_acc)"
   ]
  },
  {
   "cell_type": "markdown",
   "metadata": {},
   "source": [
    "**RF_6**\n",
    "\n",
    "Variables used for modeling"
   ]
  },
  {
   "cell_type": "code",
   "execution_count": null,
   "metadata": {},
   "outputs": [],
   "source": [
    "Var = Ranking[\"Random Forest\"][Ranking[\"Random Forest\"]<=6].index\n",
    "for i in Var:\n",
    "    print(i)"
   ]
  },
  {
   "cell_type": "code",
   "execution_count": null,
   "metadata": {},
   "outputs": [],
   "source": [
    "grid.fit(data[Var], y)\n",
    "print(grid.best_params_)\n",
    "\n",
    "RF_6_acc = grid.best_score_\n",
    "\n",
    "RF_6 = grid.best_estimator_\n",
    "\n",
    "print(RF_6_acc)"
   ]
  },
  {
   "cell_type": "markdown",
   "metadata": {},
   "source": [
    "**Boruta_3**"
   ]
  },
  {
   "cell_type": "markdown",
   "metadata": {},
   "source": [
    "Variables used for modeling"
   ]
  },
  {
   "cell_type": "code",
   "execution_count": null,
   "metadata": {},
   "outputs": [],
   "source": [
    "Var = Ranking[\"Boruta\"][Ranking[\"Boruta\"]<3].index\n",
    "for i in Var:\n",
    "    print(i)"
   ]
  },
  {
   "cell_type": "code",
   "execution_count": null,
   "metadata": {},
   "outputs": [],
   "source": [
    "grid.fit(data[Var], y)\n",
    "print(grid.best_params_)\n",
    "\n",
    "Boruta_3_acc = grid.best_score_\n",
    "\n",
    "Boruta_3 = grid.best_estimator_\n",
    "\n",
    "print(Boruta_3_acc)"
   ]
  },
  {
   "cell_type": "markdown",
   "metadata": {},
   "source": [
    "**RF_10**"
   ]
  },
  {
   "cell_type": "markdown",
   "metadata": {},
   "source": [
    "Variables used for modeling"
   ]
  },
  {
   "cell_type": "code",
   "execution_count": null,
   "metadata": {},
   "outputs": [],
   "source": [
    "Var = Ranking[\"Random Forest\"][Ranking[\"Random Forest\"]<11].index\n",
    "for i in Var:\n",
    "    print(i)"
   ]
  },
  {
   "cell_type": "code",
   "execution_count": null,
   "metadata": {},
   "outputs": [],
   "source": [
    "grid.fit(data[Var], y)\n",
    "print(grid.best_params_)\n",
    "\n",
    "RF_10_acc = grid.best_score_\n",
    "\n",
    "RF_10 = grid.best_estimator_\n",
    "\n",
    "print(RF_10_acc)"
   ]
  },
  {
   "cell_type": "markdown",
   "metadata": {},
   "source": [
    "**Boruta_10**"
   ]
  },
  {
   "cell_type": "markdown",
   "metadata": {},
   "source": [
    "Variables used for modeling"
   ]
  },
  {
   "cell_type": "code",
   "execution_count": null,
   "metadata": {},
   "outputs": [],
   "source": [
    "Var = Ranking[\"Boruta\"][Ranking[\"Boruta\"]<11].index\n",
    "for i in Var:\n",
    "    print(i)"
   ]
  },
  {
   "cell_type": "code",
   "execution_count": null,
   "metadata": {},
   "outputs": [],
   "source": [
    "grid.fit(data[Var], y)\n",
    "print(grid.best_params_)\n",
    "\n",
    "Boruta_10_acc = grid.best_score_\n",
    "\n",
    "Boruta_10 = grid.best_estimator_\n",
    "\n",
    "print(Boruta_10_acc)"
   ]
  },
  {
   "cell_type": "markdown",
   "metadata": {},
   "source": [
    "### Results"
   ]
  },
  {
   "cell_type": "code",
   "execution_count": null,
   "metadata": {},
   "outputs": [],
   "source": [
    "Results = pd.Series(\n",
    "[IV_10_acc,\n",
    "RF_6_acc,\n",
    "Boruta_3_acc,\n",
    "RF_10_acc,\n",
    "Boruta_10_acc,\n",
    "rf_best_acc,\n",
    "0.5454545454545454],\n",
    "index = [\"IV_10_acc\",\n",
    "\"RF_6_acc\",\n",
    "\"Boruta_3_acc\",\n",
    "\"RF_10_acc\",\n",
    "\"Boruta_10_acc\",\n",
    "\"All Variales\",\n",
    "\"Proportion\"])\n",
    "\n",
    "Results"
   ]
  },
  {
   "cell_type": "markdown",
   "metadata": {},
   "source": [
    "#### General observations"
   ]
  },
  {
   "cell_type": "markdown",
   "metadata": {},
   "source": [
    "We can see that for all models, despite not very large values, the accuracy is greater than the proportion of a larger category.\n",
    "\n",
    "We can also see that several models provided similar results to the model based on all variables, so we can assume that they selected all relevant variables."
   ]
  },
  {
   "cell_type": "markdown",
   "metadata": {},
   "source": [
    "#### Comparisons between approaches"
   ]
  },
  {
   "cell_type": "markdown",
   "metadata": {},
   "source": [
    "**The sensitivity of the method**\n",
    "\n",
    "We can see that a significant difference between the performances is the number of variables selected by the method.\n",
    "\n",
    "This means that more conservative methods in the selection of variables did not discover all variables carrying information (even if they do not carry much information)\n",
    "\n",
    "In this case, the method based on IV has the advantage because it does not show a significant difference between the more and less important variables"
   ]
  },
  {
   "cell_type": "markdown",
   "metadata": {},
   "source": [
    "**Ordering of variables**\n",
    "\n",
    "For models built for the same number of variables, we can see that Borut's algorithm is better at arranging variables.\n"
   ]
  },
  {
   "cell_type": "markdown",
   "metadata": {},
   "source": [
    "## 10 Summary\n",
    "\n",
    "### Approaches performance \n",
    "\n",
    "The model based on random forests and Borut's algorithm were too conservative in the selection of variables for modeling, however, they did better in ordering them.\n",
    "\n",
    "### Most important Varables\n",
    "\n",
    "The most important variables are\n",
    "\n",
    "    1._donor_age_\n",
    "    2._recipient_age_\n",
    "    3._recipient_body_mass_\n",
    "    4._CD34_x1e6_per_kg_\n",
    "    5._CD3_x1e8_per_kg_\n",
    "\n",
    "However, most of them are correlated, so mayby some of them are responsible for the impact on the result. Expert knowledge would be needed to decide which of them."
   ]
  },
  {
   "cell_type": "code",
   "execution_count": null,
   "metadata": {},
   "outputs": [],
   "source": []
  },
  {
   "cell_type": "code",
   "execution_count": null,
   "metadata": {},
   "outputs": [],
   "source": []
  }
 ],
 "metadata": {
  "kernelspec": {
   "display_name": "Python 3",
   "language": "python",
   "name": "python3"
  },
  "language_info": {
   "codemirror_mode": {
    "name": "ipython",
    "version": 3
   },
   "file_extension": ".py",
   "mimetype": "text/x-python",
   "name": "python",
   "nbconvert_exporter": "python",
   "pygments_lexer": "ipython3",
   "version": "3.8.5"
  }
 },
 "nbformat": 4,
 "nbformat_minor": 4
}
